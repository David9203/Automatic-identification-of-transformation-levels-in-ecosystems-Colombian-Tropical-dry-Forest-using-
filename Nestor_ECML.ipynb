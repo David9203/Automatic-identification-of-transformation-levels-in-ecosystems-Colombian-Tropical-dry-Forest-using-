{
  "nbformat": 4,
  "nbformat_minor": 0,
  "metadata": {
    "colab": {
      "name": "Copia de ECML paragithub.ipynb",
      "provenance": [],
      "toc_visible": true
    },
    "kernelspec": {
      "name": "python3",
      "display_name": "Python 3"
    }
  },
  "cells": [
    {
      "cell_type": "markdown",
      "metadata": {
        "id": "UaqMeRIiUTkl",
        "colab_type": "text"
      },
      "source": [
        "ECML article "
      ]
    },
    {
      "cell_type": "code",
      "metadata": {
        "id": "PzLIeSe-UQ_A",
        "colab_type": "code",
        "colab": {}
      },
      "source": [
        "import pandas as pd\n",
        "import numpy as np\n",
        "import matplotlib.pyplot as plt\n",
        "import seaborn as sns\n",
        "import sklearn\n",
        "from sklearn.preprocessing import StandardScaler\n",
        "from sklearn.model_selection import StratifiedKFold"
      ],
      "execution_count": 0,
      "outputs": []
    },
    {
      "cell_type": "markdown",
      "metadata": {
        "id": "g4onJ9LRpr8Q",
        "colab_type": "text"
      },
      "source": [
        "#BOLIVAR"
      ]
    },
    {
      "cell_type": "code",
      "metadata": {
        "id": "l6ZLf19GUftO",
        "colab_type": "code",
        "outputId": "b5e6dbde-aecb-43ab-f7fc-0b6d8976109e",
        "colab": {
          "base_uri": "https://localhost:8080/",
          "height": 457
        }
      },
      "source": [
        "datos =  pd.read_csv(\"bolivar.csv\")\n",
        "datos"
      ],
      "execution_count": 0,
      "outputs": [
        {
          "output_type": "stream",
          "text": [
            "/content/drive/My Drive/bioacustica/Resultadosenero07\n"
          ],
          "name": "stdout"
        },
        {
          "output_type": "execute_result",
          "data": {
            "text/html": [
              "<div>\n",
              "<style scoped>\n",
              "    .dataframe tbody tr th:only-of-type {\n",
              "        vertical-align: middle;\n",
              "    }\n",
              "\n",
              "    .dataframe tbody tr th {\n",
              "        vertical-align: top;\n",
              "    }\n",
              "\n",
              "    .dataframe thead th {\n",
              "        text-align: right;\n",
              "    }\n",
              "</style>\n",
              "<table border=\"1\" class=\"dataframe\">\n",
              "  <thead>\n",
              "    <tr style=\"text-align: right;\">\n",
              "      <th></th>\n",
              "      <th>name</th>\n",
              "      <th>ACIf</th>\n",
              "      <th>ESM</th>\n",
              "      <th>MD</th>\n",
              "      <th>NDSI</th>\n",
              "      <th>MID</th>\n",
              "      <th>FM</th>\n",
              "      <th>WE</th>\n",
              "      <th>CF</th>\n",
              "      <th>SC</th>\n",
              "      <th>SB</th>\n",
              "      <th>Tonnets</th>\n",
              "      <th>ADIm1</th>\n",
              "      <th>ADIm2</th>\n",
              "      <th>ADIm3</th>\n",
              "      <th>ADIm4</th>\n",
              "      <th>ADIm5</th>\n",
              "      <th>ADIm6</th>\n",
              "      <th>ADIm7</th>\n",
              "      <th>ADIm8</th>\n",
              "      <th>ADIm9</th>\n",
              "      <th>label</th>\n",
              "      <th>hora</th>\n",
              "      <th>etapa</th>\n",
              "      <th>grabadora</th>\n",
              "      <th>zone</th>\n",
              "    </tr>\n",
              "  </thead>\n",
              "  <tbody>\n",
              "    <tr>\n",
              "      <th>0</th>\n",
              "      <td>/media/microp/DavidDD/bioacustica/2016/5067/20...</td>\n",
              "      <td>0.892706</td>\n",
              "      <td>0.856278</td>\n",
              "      <td>0.333183</td>\n",
              "      <td>0.996827</td>\n",
              "      <td>0.153374</td>\n",
              "      <td>0.661727</td>\n",
              "      <td>0.034530</td>\n",
              "      <td>0.001219</td>\n",
              "      <td>0.362491</td>\n",
              "      <td>0.619287</td>\n",
              "      <td>0.772133</td>\n",
              "      <td>0.914494</td>\n",
              "      <td>0.935664</td>\n",
              "      <td>0.717790</td>\n",
              "      <td>0.898397</td>\n",
              "      <td>0.645474</td>\n",
              "      <td>0.809112</td>\n",
              "      <td>0.627928</td>\n",
              "      <td>0.736445</td>\n",
              "      <td>0.883784</td>\n",
              "      <td>1</td>\n",
              "      <td>0</td>\n",
              "      <td>4</td>\n",
              "      <td>/ESPAN5067__0__2016</td>\n",
              "      <td>b</td>\n",
              "    </tr>\n",
              "    <tr>\n",
              "      <th>1</th>\n",
              "      <td>/media/microp/DavidDD/bioacustica/2016/5067/20...</td>\n",
              "      <td>0.892689</td>\n",
              "      <td>0.849345</td>\n",
              "      <td>0.332714</td>\n",
              "      <td>0.995790</td>\n",
              "      <td>0.153374</td>\n",
              "      <td>0.653551</td>\n",
              "      <td>0.043956</td>\n",
              "      <td>0.015348</td>\n",
              "      <td>0.362374</td>\n",
              "      <td>0.640530</td>\n",
              "      <td>0.780956</td>\n",
              "      <td>0.913795</td>\n",
              "      <td>0.919657</td>\n",
              "      <td>0.749596</td>\n",
              "      <td>0.846422</td>\n",
              "      <td>0.618931</td>\n",
              "      <td>0.766952</td>\n",
              "      <td>0.674475</td>\n",
              "      <td>0.701438</td>\n",
              "      <td>0.538745</td>\n",
              "      <td>1</td>\n",
              "      <td>0</td>\n",
              "      <td>4</td>\n",
              "      <td>/ESPAN5067__0__2016</td>\n",
              "      <td>b</td>\n",
              "    </tr>\n",
              "    <tr>\n",
              "      <th>2</th>\n",
              "      <td>/media/microp/DavidDD/bioacustica/2016/5067/20...</td>\n",
              "      <td>0.892532</td>\n",
              "      <td>0.883410</td>\n",
              "      <td>0.343941</td>\n",
              "      <td>0.994342</td>\n",
              "      <td>0.153374</td>\n",
              "      <td>0.667842</td>\n",
              "      <td>0.046574</td>\n",
              "      <td>0.000777</td>\n",
              "      <td>0.360499</td>\n",
              "      <td>0.644262</td>\n",
              "      <td>0.604594</td>\n",
              "      <td>0.882703</td>\n",
              "      <td>0.942878</td>\n",
              "      <td>0.833048</td>\n",
              "      <td>0.894844</td>\n",
              "      <td>0.661002</td>\n",
              "      <td>0.765344</td>\n",
              "      <td>0.684523</td>\n",
              "      <td>0.828174</td>\n",
              "      <td>0.912517</td>\n",
              "      <td>1</td>\n",
              "      <td>0</td>\n",
              "      <td>4</td>\n",
              "      <td>/ESPAN5067__0__2016</td>\n",
              "      <td>b</td>\n",
              "    </tr>\n",
              "    <tr>\n",
              "      <th>3</th>\n",
              "      <td>/media/microp/DavidDD/bioacustica/2016/5067/20...</td>\n",
              "      <td>0.893969</td>\n",
              "      <td>0.872079</td>\n",
              "      <td>0.338332</td>\n",
              "      <td>0.994927</td>\n",
              "      <td>0.153374</td>\n",
              "      <td>0.665852</td>\n",
              "      <td>0.048174</td>\n",
              "      <td>0.000657</td>\n",
              "      <td>0.365982</td>\n",
              "      <td>0.631258</td>\n",
              "      <td>0.761992</td>\n",
              "      <td>0.897772</td>\n",
              "      <td>0.930704</td>\n",
              "      <td>0.867027</td>\n",
              "      <td>0.891509</td>\n",
              "      <td>0.642647</td>\n",
              "      <td>0.772345</td>\n",
              "      <td>0.672453</td>\n",
              "      <td>0.756394</td>\n",
              "      <td>0.895355</td>\n",
              "      <td>1</td>\n",
              "      <td>0</td>\n",
              "      <td>4</td>\n",
              "      <td>/ESPAN5067__0__2016</td>\n",
              "      <td>b</td>\n",
              "    </tr>\n",
              "    <tr>\n",
              "      <th>4</th>\n",
              "      <td>/media/microp/DavidDD/bioacustica/2016/5067/20...</td>\n",
              "      <td>0.893771</td>\n",
              "      <td>0.871869</td>\n",
              "      <td>0.332844</td>\n",
              "      <td>0.996601</td>\n",
              "      <td>0.153374</td>\n",
              "      <td>0.661596</td>\n",
              "      <td>0.036865</td>\n",
              "      <td>0.000963</td>\n",
              "      <td>0.365211</td>\n",
              "      <td>0.604857</td>\n",
              "      <td>0.765045</td>\n",
              "      <td>0.942699</td>\n",
              "      <td>0.922719</td>\n",
              "      <td>0.807180</td>\n",
              "      <td>0.859638</td>\n",
              "      <td>0.642277</td>\n",
              "      <td>0.789608</td>\n",
              "      <td>0.684477</td>\n",
              "      <td>0.814735</td>\n",
              "      <td>0.752579</td>\n",
              "      <td>1</td>\n",
              "      <td>0</td>\n",
              "      <td>4</td>\n",
              "      <td>/ESPAN5067__0__2016</td>\n",
              "      <td>b</td>\n",
              "    </tr>\n",
              "    <tr>\n",
              "      <th>...</th>\n",
              "      <td>...</td>\n",
              "      <td>...</td>\n",
              "      <td>...</td>\n",
              "      <td>...</td>\n",
              "      <td>...</td>\n",
              "      <td>...</td>\n",
              "      <td>...</td>\n",
              "      <td>...</td>\n",
              "      <td>...</td>\n",
              "      <td>...</td>\n",
              "      <td>...</td>\n",
              "      <td>...</td>\n",
              "      <td>...</td>\n",
              "      <td>...</td>\n",
              "      <td>...</td>\n",
              "      <td>...</td>\n",
              "      <td>...</td>\n",
              "      <td>...</td>\n",
              "      <td>...</td>\n",
              "      <td>...</td>\n",
              "      <td>...</td>\n",
              "      <td>...</td>\n",
              "      <td>...</td>\n",
              "      <td>...</td>\n",
              "      <td>...</td>\n",
              "      <td>...</td>\n",
              "    </tr>\n",
              "    <tr>\n",
              "      <th>14262</th>\n",
              "      <td>/home/david/Música/Bioacustica/2016/5072/20160...</td>\n",
              "      <td>0.888617</td>\n",
              "      <td>0.922066</td>\n",
              "      <td>0.361778</td>\n",
              "      <td>0.757846</td>\n",
              "      <td>0.092025</td>\n",
              "      <td>0.673834</td>\n",
              "      <td>0.102329</td>\n",
              "      <td>0.008380</td>\n",
              "      <td>0.214499</td>\n",
              "      <td>0.706301</td>\n",
              "      <td>0.572109</td>\n",
              "      <td>0.852253</td>\n",
              "      <td>0.852278</td>\n",
              "      <td>0.851112</td>\n",
              "      <td>0.858536</td>\n",
              "      <td>0.817793</td>\n",
              "      <td>0.898782</td>\n",
              "      <td>0.735839</td>\n",
              "      <td>0.774186</td>\n",
              "      <td>0.878673</td>\n",
              "      <td>1</td>\n",
              "      <td>21</td>\n",
              "      <td>4</td>\n",
              "      <td>4/GUAM5072__0__2016</td>\n",
              "      <td>b</td>\n",
              "    </tr>\n",
              "    <tr>\n",
              "      <th>14263</th>\n",
              "      <td>/home/david/Música/Bioacustica/2016/5072/20160...</td>\n",
              "      <td>0.892509</td>\n",
              "      <td>0.942935</td>\n",
              "      <td>0.366825</td>\n",
              "      <td>0.962168</td>\n",
              "      <td>0.119632</td>\n",
              "      <td>0.678541</td>\n",
              "      <td>0.130556</td>\n",
              "      <td>0.001318</td>\n",
              "      <td>0.222065</td>\n",
              "      <td>0.681862</td>\n",
              "      <td>0.581541</td>\n",
              "      <td>0.972626</td>\n",
              "      <td>0.872201</td>\n",
              "      <td>0.864640</td>\n",
              "      <td>0.789343</td>\n",
              "      <td>0.850748</td>\n",
              "      <td>0.692949</td>\n",
              "      <td>0.808392</td>\n",
              "      <td>0.889182</td>\n",
              "      <td>0.923341</td>\n",
              "      <td>1</td>\n",
              "      <td>21</td>\n",
              "      <td>4</td>\n",
              "      <td>4/GUAM5072__0__2016</td>\n",
              "      <td>b</td>\n",
              "    </tr>\n",
              "    <tr>\n",
              "      <th>14264</th>\n",
              "      <td>/home/david/Música/Bioacustica/2016/5072/20160...</td>\n",
              "      <td>0.889718</td>\n",
              "      <td>0.867835</td>\n",
              "      <td>0.356152</td>\n",
              "      <td>0.557156</td>\n",
              "      <td>0.000000</td>\n",
              "      <td>0.679095</td>\n",
              "      <td>0.239281</td>\n",
              "      <td>0.000953</td>\n",
              "      <td>0.208378</td>\n",
              "      <td>0.716956</td>\n",
              "      <td>0.562998</td>\n",
              "      <td>0.838047</td>\n",
              "      <td>0.768946</td>\n",
              "      <td>0.719321</td>\n",
              "      <td>0.680666</td>\n",
              "      <td>0.656380</td>\n",
              "      <td>0.749576</td>\n",
              "      <td>0.832388</td>\n",
              "      <td>0.822860</td>\n",
              "      <td>0.769835</td>\n",
              "      <td>1</td>\n",
              "      <td>11</td>\n",
              "      <td>2</td>\n",
              "      <td>4/GUAM5072__0__2016</td>\n",
              "      <td>b</td>\n",
              "    </tr>\n",
              "    <tr>\n",
              "      <th>14265</th>\n",
              "      <td>/home/david/Música/Bioacustica/2016/5072/20160...</td>\n",
              "      <td>0.890578</td>\n",
              "      <td>0.928419</td>\n",
              "      <td>0.362309</td>\n",
              "      <td>0.590229</td>\n",
              "      <td>0.000000</td>\n",
              "      <td>0.690011</td>\n",
              "      <td>0.303809</td>\n",
              "      <td>0.005276</td>\n",
              "      <td>0.217777</td>\n",
              "      <td>0.734168</td>\n",
              "      <td>0.556148</td>\n",
              "      <td>0.871274</td>\n",
              "      <td>0.832689</td>\n",
              "      <td>0.509428</td>\n",
              "      <td>0.725984</td>\n",
              "      <td>0.818711</td>\n",
              "      <td>0.812188</td>\n",
              "      <td>0.890610</td>\n",
              "      <td>0.849255</td>\n",
              "      <td>0.884710</td>\n",
              "      <td>1</td>\n",
              "      <td>12</td>\n",
              "      <td>2</td>\n",
              "      <td>4/GUAM5072__0__2016</td>\n",
              "      <td>b</td>\n",
              "    </tr>\n",
              "    <tr>\n",
              "      <th>14266</th>\n",
              "      <td>/home/david/Música/Bioacustica/2016/5072/20160...</td>\n",
              "      <td>0.886941</td>\n",
              "      <td>0.925660</td>\n",
              "      <td>0.396706</td>\n",
              "      <td>0.475086</td>\n",
              "      <td>0.282209</td>\n",
              "      <td>0.681488</td>\n",
              "      <td>0.474188</td>\n",
              "      <td>0.000535</td>\n",
              "      <td>0.204542</td>\n",
              "      <td>0.750786</td>\n",
              "      <td>0.555830</td>\n",
              "      <td>0.926773</td>\n",
              "      <td>0.883243</td>\n",
              "      <td>0.827070</td>\n",
              "      <td>0.909558</td>\n",
              "      <td>0.879414</td>\n",
              "      <td>0.560269</td>\n",
              "      <td>0.865593</td>\n",
              "      <td>0.931894</td>\n",
              "      <td>0.936383</td>\n",
              "      <td>1</td>\n",
              "      <td>8</td>\n",
              "      <td>4</td>\n",
              "      <td>4/GUAM5072__0__2016</td>\n",
              "      <td>b</td>\n",
              "    </tr>\n",
              "  </tbody>\n",
              "</table>\n",
              "<p>14267 rows × 26 columns</p>\n",
              "</div>"
            ],
            "text/plain": [
              "                                                    name  ...  zone\n",
              "0      /media/microp/DavidDD/bioacustica/2016/5067/20...  ...     b\n",
              "1      /media/microp/DavidDD/bioacustica/2016/5067/20...  ...     b\n",
              "2      /media/microp/DavidDD/bioacustica/2016/5067/20...  ...     b\n",
              "3      /media/microp/DavidDD/bioacustica/2016/5067/20...  ...     b\n",
              "4      /media/microp/DavidDD/bioacustica/2016/5067/20...  ...     b\n",
              "...                                                  ...  ...   ...\n",
              "14262  /home/david/Música/Bioacustica/2016/5072/20160...  ...     b\n",
              "14263  /home/david/Música/Bioacustica/2016/5072/20160...  ...     b\n",
              "14264  /home/david/Música/Bioacustica/2016/5072/20160...  ...     b\n",
              "14265  /home/david/Música/Bioacustica/2016/5072/20160...  ...     b\n",
              "14266  /home/david/Música/Bioacustica/2016/5072/20160...  ...     b\n",
              "\n",
              "[14267 rows x 26 columns]"
            ]
          },
          "metadata": {
            "tags": []
          },
          "execution_count": 3
        }
      ]
    },
    {
      "cell_type": "code",
      "metadata": {
        "id": "bgBRslfFUxjW",
        "colab_type": "code",
        "outputId": "90eb605e-1e50-4887-e1fa-015a87e17ed9",
        "colab": {
          "base_uri": "https://localhost:8080/",
          "height": 336
        }
      },
      "source": [
        "dafos=datos.drop_duplicates(subset=['ACIf', 'ESM','MD'],keep=False)\n",
        "from sklearn.preprocessing import MinMaxScaler\n",
        "scaler = MinMaxScaler()\n",
        "datos.iloc[:,1:21] = scaler.fit_transform(datos.iloc[:,1:21])\n",
        "normalized_df = datos[datos.label != 'na']\n",
        "normalized_df['label'].value_counts().plot(kind='bar')"
      ],
      "execution_count": 0,
      "outputs": [
        {
          "output_type": "stream",
          "text": [
            "/usr/local/lib/python3.6/dist-packages/pandas/core/ops/__init__.py:1115: FutureWarning: elementwise comparison failed; returning scalar instead, but in the future will perform elementwise comparison\n",
            "  result = method(y)\n"
          ],
          "name": "stderr"
        },
        {
          "output_type": "execute_result",
          "data": {
            "text/plain": [
              "<matplotlib.axes._subplots.AxesSubplot at 0x7fcdb79a1860>"
            ]
          },
          "metadata": {
            "tags": []
          },
          "execution_count": 4
        },
        {
          "output_type": "display_data",
          "data": {
            "image/png": "[encoded data removed]",
            "text/plain": [
              "<Figure size 432x288 with 1 Axes>"
            ]
          },
          "metadata": {
            "tags": []
          }
        }
      ]
    },
    {
      "cell_type": "code",
      "metadata": {
        "id": "37w_weo5Vqq9",
        "colab_type": "code",
        "outputId": "f2373493-f314-409c-d117-b8697fddf566",
        "colab": {
          "base_uri": "https://localhost:8080/",
          "height": 89
        }
      },
      "source": [
        "normalized_df['label'].value_counts()"
      ],
      "execution_count": 0,
      "outputs": [
        {
          "output_type": "execute_result",
          "data": {
            "text/plain": [
              "1    8972\n",
              "2    3314\n",
              "0    1981\n",
              "Name: label, dtype: int64"
            ]
          },
          "metadata": {
            "tags": []
          },
          "execution_count": 5
        }
      ]
    },
    {
      "cell_type": "markdown",
      "metadata": {
        "id": "Ad_F8o4LFCKt",
        "colab_type": "text"
      },
      "source": [
        "# Feature selection\n"
      ]
    },
    {
      "cell_type": "code",
      "metadata": {
        "id": "Kh1yobVhXFQ0",
        "colab_type": "code",
        "outputId": "4c4a6f62-5557-469f-9967-693e58d8a036",
        "colab": {
          "base_uri": "https://localhost:8080/",
          "height": 1000
        }
      },
      "source": [
        "scalxlabel=normalized_df.copy()\n",
        "trans={2:'High',0:'Low',1:'Medium'}\n",
        "datay=[trans[item] for item in scalxlabel.label]\n",
        "scalxlabel['labell']=datay\n",
        "scalxlabel=scalxlabel[[ 'ESM', 'MD', 'NDSI', 'MID', 'WE', 'SC',\n",
        "       'SB','labell']]\n",
        "scalxlabel = scalxlabel.rename({'WE': 'SF'}, axis=1)\n",
        "fig=scalxlabel.boxplot(figsize = (15,20),by='labell',fontsize='large')"
      ],
      "execution_count": 0,
      "outputs": [
        {
          "output_type": "display_data",
          "data": {
            "image/png": "[encoded data removed]",
            "text/plain": [
              "<Figure size 1080x1440 with 9 Axes>"
            ]
          },
          "metadata": {
            "tags": []
          }
        }
      ]
    },
    {
      "cell_type": "code",
      "metadata": {
        "id": "SDfoOzl3qE5M",
        "colab_type": "code",
        "outputId": "f68f7728-27ce-4c05-edc9-40cf283f40aa",
        "colab": {
          "base_uri": "https://localhost:8080/",
          "height": 1000
        }
      },
      "source": [
        "scalxlabel=normalized_df.copy()\n",
        "trans={2:'alta',0:'baja',1:'media'}\n",
        "datay=[trans[item] for item in scalxlabel.label]\n",
        "scalxlabel['labell']=datay\n",
        "scalxlabel=scalxlabel[[ 'ESM', 'MD', 'NDSI', 'MID', 'WE', 'SC',\n",
        "       'SB','hora']]\n",
        "scalxlabel = scalxlabel.rename({'WE': 'SF'}, axis=1)\n",
        "fig=scalxlabel.boxplot(figsize = (15,20),by='hora',fontsize='large')"
      ],
      "execution_count": 0,
      "outputs": [
        {
          "output_type": "display_data",
          "data": {
            "image/png": "[encoded data removed]",
            "text/plain": [
              "<Figure size 1080x1440 with 9 Axes>"
            ]
          },
          "metadata": {
            "tags": []
          }
        }
      ]
    },
    {
      "cell_type": "code",
      "metadata": {
        "id": "ugUaB_vMXRKa",
        "colab_type": "code",
        "outputId": "05a20be2-61cc-463e-c12d-e2ce511b0b78",
        "colab": {
          "base_uri": "https://localhost:8080/",
          "height": 611
        }
      },
      "source": [
        "\n",
        "sns.set(rc={'figure.figsize':(10,10)})\n",
        "ax = sns.boxplot(x=\"label\", y=\"Tonnets\", hue=\"label\", data=normalized_df, palette=\"Set3\")"
      ],
      "execution_count": 0,
      "outputs": [
        {
          "output_type": "display_data",
          "data": {
            "image/png": "[encoded data removed]",
            "text/plain": [
              "<Figure size 720x720 with 1 Axes>"
            ]
          },
          "metadata": {
            "tags": []
          }
        }
      ]
    },
    {
      "cell_type": "code",
      "metadata": {
        "id": "nZG077fqCNne",
        "colab_type": "code",
        "colab": {}
      },
      "source": [
        ""
      ],
      "execution_count": 0,
      "outputs": []
    },
    {
      "cell_type": "code",
      "metadata": {
        "id": "0pTwpcNCrwfY",
        "colab_type": "code",
        "outputId": "af3e7cb1-d8dc-4162-a28f-c41bc96f9745",
        "colab": {
          "base_uri": "https://localhost:8080/",
          "height": 611
        }
      },
      "source": [
        "import seaborn as sns\n",
        "ax = sns.boxplot(x=\"hora\", y=\"Tonnets\", data=normalized_df, palette=\"Set3\")"
      ],
      "execution_count": 0,
      "outputs": [
        {
          "output_type": "display_data",
          "data": {
            "image/png": "[encoded data removed]",
            "text/plain": [
              "<Figure size 720x720 with 1 Axes>"
            ]
          },
          "metadata": {
            "tags": []
          }
        }
      ]
    },
    {
      "cell_type": "code",
      "metadata": {
        "id": "jMzROKXL71sy",
        "colab_type": "code",
        "colab": {}
      },
      "source": [
        "X=normalized_df.iloc[:,1:21]\n",
        "y=normalized_df.label"
      ],
      "execution_count": 0,
      "outputs": []
    },
    {
      "cell_type": "code",
      "metadata": {
        "id": "Xun_fo-jG6vE",
        "colab_type": "code",
        "outputId": "da75e94b-2000-46c2-de9e-c3c3ca72de55",
        "colab": {
          "base_uri": "https://localhost:8080/",
          "height": 107
        }
      },
      "source": [
        "from sklearn.feature_selection import f_classif\n",
        "\n",
        "fval=f_classif(X, y)[0]\n",
        "fval"
      ],
      "execution_count": 0,
      "outputs": [
        {
          "output_type": "execute_result",
          "data": {
            "text/plain": [
              "array([3.03645302e+01, 1.78582879e+02, 3.36997022e+02, 1.22137893e+01,\n",
              "       3.52969470e+02, 2.10144481e+02, 8.15919038e+01, 5.12854509e+02,\n",
              "       4.38616387e+03, 3.73758326e+03, 7.15898481e+01, 8.21958504e+02,\n",
              "       4.76337858e+02, 2.32472205e+02, 2.26078374e+02, 1.10575158e+02,\n",
              "       6.64247354e+01, 1.41901378e+02, 3.35767988e+01, 3.26340559e-01])"
            ]
          },
          "metadata": {
            "tags": []
          },
          "execution_count": 20
        }
      ]
    },
    {
      "cell_type": "code",
      "metadata": {
        "id": "M_elAHM1vuHm",
        "colab_type": "code",
        "outputId": "a8df4c1e-927f-4f38-8ba6-7655ba79dc8d",
        "colab": {
          "base_uri": "https://localhost:8080/",
          "height": 592
        }
      },
      "source": [
        "from string import ascii_letters\n",
        "import numpy as np\n",
        "import pandas as pd\n",
        "import seaborn as sns\n",
        "import matplotlib.pyplot as plt\n",
        "\n",
        "sns.set(style=\"white\")\n",
        "\n",
        "# Generate a large random dataset\n",
        "\n",
        "# Compute the correlation matrix\n",
        "corr = normalized_df.iloc[:,1:21].corr()\n",
        "\n",
        "# Generate a mask for the upper triangle\n",
        "mask = np.zeros_like(corr, dtype=np.bool)\n",
        "mask[np.triu_indices_from(mask)] = True\n",
        "\n",
        "# Set up the matplotlib figure\n",
        "f, ax = plt.subplots(figsize=(11, 9))\n",
        "\n",
        "# Generate a custom diverging colormap\n",
        "cmap = sns.diverging_palette(220, 10, as_cmap=True)\n",
        "\n",
        "# Draw the heatmap with the mask and correct aspect ratio\n",
        "sns.heatmap(corr, mask=mask, cmap=cmap, vmax=.3, center=0,\n",
        "            square=True, linewidths=.5, cbar_kws={\"shrink\": .5})"
      ],
      "execution_count": 0,
      "outputs": [
        {
          "output_type": "execute_result",
          "data": {
            "text/plain": [
              "<matplotlib.axes._subplots.AxesSubplot at 0x7f54274bc780>"
            ]
          },
          "metadata": {
            "tags": []
          },
          "execution_count": 46
        },
        {
          "output_type": "display_data",
          "data": {
            "image/png": "[encoded data removed]",
            "text/plain": [
              "<Figure size 792x648 with 2 Axes>"
            ]
          },
          "metadata": {
            "tags": []
          }
        }
      ]
    },
    {
      "cell_type": "code",
      "metadata": {
        "id": "tjJxRlm4ZUD3",
        "colab_type": "code",
        "outputId": "f45d0bdb-3a2e-4852-f99b-d0d6507a16e7",
        "colab": {
          "base_uri": "https://localhost:8080/",
          "height": 439
        }
      },
      "source": [
        "normalized_df"
      ],
      "execution_count": 0,
      "outputs": [
        {
          "output_type": "execute_result",
          "data": {
            "text/html": [
              "<div>\n",
              "<style scoped>\n",
              "    .dataframe tbody tr th:only-of-type {\n",
              "        vertical-align: middle;\n",
              "    }\n",
              "\n",
              "    .dataframe tbody tr th {\n",
              "        vertical-align: top;\n",
              "    }\n",
              "\n",
              "    .dataframe thead th {\n",
              "        text-align: right;\n",
              "    }\n",
              "</style>\n",
              "<table border=\"1\" class=\"dataframe\">\n",
              "  <thead>\n",
              "    <tr style=\"text-align: right;\">\n",
              "      <th></th>\n",
              "      <th>name</th>\n",
              "      <th>ACIf</th>\n",
              "      <th>ESM</th>\n",
              "      <th>MD</th>\n",
              "      <th>NDSI</th>\n",
              "      <th>MID</th>\n",
              "      <th>FM</th>\n",
              "      <th>WE</th>\n",
              "      <th>CF</th>\n",
              "      <th>SC</th>\n",
              "      <th>SB</th>\n",
              "      <th>Tonnets</th>\n",
              "      <th>ADIm1</th>\n",
              "      <th>ADIm2</th>\n",
              "      <th>ADIm3</th>\n",
              "      <th>ADIm4</th>\n",
              "      <th>ADIm5</th>\n",
              "      <th>ADIm6</th>\n",
              "      <th>ADIm7</th>\n",
              "      <th>ADIm8</th>\n",
              "      <th>ADIm9</th>\n",
              "      <th>label</th>\n",
              "      <th>hora</th>\n",
              "      <th>etapa</th>\n",
              "      <th>grabadora</th>\n",
              "      <th>zone</th>\n",
              "    </tr>\n",
              "  </thead>\n",
              "  <tbody>\n",
              "    <tr>\n",
              "      <th>0</th>\n",
              "      <td>/media/microp/DavidDD/bioacustica/2016/5067/20...</td>\n",
              "      <td>0.905097</td>\n",
              "      <td>0.854634</td>\n",
              "      <td>0.281328</td>\n",
              "      <td>0.996915</td>\n",
              "      <td>0.153374</td>\n",
              "      <td>0.389293</td>\n",
              "      <td>0.045856</td>\n",
              "      <td>0.001219</td>\n",
              "      <td>0.375167</td>\n",
              "      <td>0.587507</td>\n",
              "      <td>0.805428</td>\n",
              "      <td>0.918625</td>\n",
              "      <td>0.937785</td>\n",
              "      <td>0.726701</td>\n",
              "      <td>0.905833</td>\n",
              "      <td>0.648586</td>\n",
              "      <td>0.833795</td>\n",
              "      <td>0.649817</td>\n",
              "      <td>0.750013</td>\n",
              "      <td>0.886193</td>\n",
              "      <td>1</td>\n",
              "      <td>0</td>\n",
              "      <td>4</td>\n",
              "      <td>/ESPAN5067__0__2016</td>\n",
              "      <td>b</td>\n",
              "    </tr>\n",
              "    <tr>\n",
              "      <th>1</th>\n",
              "      <td>/media/microp/DavidDD/bioacustica/2016/5067/20...</td>\n",
              "      <td>0.905079</td>\n",
              "      <td>0.846968</td>\n",
              "      <td>0.280822</td>\n",
              "      <td>0.995847</td>\n",
              "      <td>0.153374</td>\n",
              "      <td>0.374533</td>\n",
              "      <td>0.059065</td>\n",
              "      <td>0.015348</td>\n",
              "      <td>0.375034</td>\n",
              "      <td>0.610523</td>\n",
              "      <td>0.816632</td>\n",
              "      <td>0.917923</td>\n",
              "      <td>0.921454</td>\n",
              "      <td>0.758994</td>\n",
              "      <td>0.852933</td>\n",
              "      <td>0.621452</td>\n",
              "      <td>0.790348</td>\n",
              "      <td>0.698227</td>\n",
              "      <td>0.714015</td>\n",
              "      <td>0.540214</td>\n",
              "      <td>1</td>\n",
              "      <td>0</td>\n",
              "      <td>4</td>\n",
              "      <td>/ESPAN5067__0__2016</td>\n",
              "      <td>b</td>\n",
              "    </tr>\n",
              "    <tr>\n",
              "      <th>2</th>\n",
              "      <td>/media/microp/DavidDD/bioacustica/2016/5067/20...</td>\n",
              "      <td>0.904920</td>\n",
              "      <td>0.884632</td>\n",
              "      <td>0.292923</td>\n",
              "      <td>0.994353</td>\n",
              "      <td>0.153374</td>\n",
              "      <td>0.400333</td>\n",
              "      <td>0.062735</td>\n",
              "      <td>0.000777</td>\n",
              "      <td>0.372892</td>\n",
              "      <td>0.614567</td>\n",
              "      <td>0.592687</td>\n",
              "      <td>0.886690</td>\n",
              "      <td>0.945146</td>\n",
              "      <td>0.843724</td>\n",
              "      <td>0.902216</td>\n",
              "      <td>0.664461</td>\n",
              "      <td>0.788691</td>\n",
              "      <td>0.708678</td>\n",
              "      <td>0.844339</td>\n",
              "      <td>0.915005</td>\n",
              "      <td>1</td>\n",
              "      <td>0</td>\n",
              "      <td>4</td>\n",
              "      <td>/ESPAN5067__0__2016</td>\n",
              "      <td>b</td>\n",
              "    </tr>\n",
              "    <tr>\n",
              "      <th>3</th>\n",
              "      <td>/media/microp/DavidDD/bioacustica/2016/5067/20...</td>\n",
              "      <td>0.906381</td>\n",
              "      <td>0.872104</td>\n",
              "      <td>0.286877</td>\n",
              "      <td>0.994956</td>\n",
              "      <td>0.153374</td>\n",
              "      <td>0.396740</td>\n",
              "      <td>0.064977</td>\n",
              "      <td>0.000657</td>\n",
              "      <td>0.379157</td>\n",
              "      <td>0.600476</td>\n",
              "      <td>0.792551</td>\n",
              "      <td>0.901828</td>\n",
              "      <td>0.932725</td>\n",
              "      <td>0.878224</td>\n",
              "      <td>0.898822</td>\n",
              "      <td>0.645697</td>\n",
              "      <td>0.795907</td>\n",
              "      <td>0.696124</td>\n",
              "      <td>0.770526</td>\n",
              "      <td>0.897796</td>\n",
              "      <td>1</td>\n",
              "      <td>0</td>\n",
              "      <td>4</td>\n",
              "      <td>/ESPAN5067__0__2016</td>\n",
              "      <td>b</td>\n",
              "    </tr>\n",
              "    <tr>\n",
              "      <th>4</th>\n",
              "      <td>/media/microp/DavidDD/bioacustica/2016/5067/20...</td>\n",
              "      <td>0.906179</td>\n",
              "      <td>0.871872</td>\n",
              "      <td>0.280962</td>\n",
              "      <td>0.996682</td>\n",
              "      <td>0.153374</td>\n",
              "      <td>0.389056</td>\n",
              "      <td>0.049128</td>\n",
              "      <td>0.000963</td>\n",
              "      <td>0.378275</td>\n",
              "      <td>0.571871</td>\n",
              "      <td>0.796429</td>\n",
              "      <td>0.946958</td>\n",
              "      <td>0.924578</td>\n",
              "      <td>0.817461</td>\n",
              "      <td>0.866384</td>\n",
              "      <td>0.645318</td>\n",
              "      <td>0.813696</td>\n",
              "      <td>0.708630</td>\n",
              "      <td>0.830519</td>\n",
              "      <td>0.754631</td>\n",
              "      <td>1</td>\n",
              "      <td>0</td>\n",
              "      <td>4</td>\n",
              "      <td>/ESPAN5067__0__2016</td>\n",
              "      <td>b</td>\n",
              "    </tr>\n",
              "    <tr>\n",
              "      <th>...</th>\n",
              "      <td>...</td>\n",
              "      <td>...</td>\n",
              "      <td>...</td>\n",
              "      <td>...</td>\n",
              "      <td>...</td>\n",
              "      <td>...</td>\n",
              "      <td>...</td>\n",
              "      <td>...</td>\n",
              "      <td>...</td>\n",
              "      <td>...</td>\n",
              "      <td>...</td>\n",
              "      <td>...</td>\n",
              "      <td>...</td>\n",
              "      <td>...</td>\n",
              "      <td>...</td>\n",
              "      <td>...</td>\n",
              "      <td>...</td>\n",
              "      <td>...</td>\n",
              "      <td>...</td>\n",
              "      <td>...</td>\n",
              "      <td>...</td>\n",
              "      <td>...</td>\n",
              "      <td>...</td>\n",
              "      <td>...</td>\n",
              "      <td>...</td>\n",
              "      <td>...</td>\n",
              "    </tr>\n",
              "    <tr>\n",
              "      <th>14262</th>\n",
              "      <td>/home/david/Música/Bioacustica/2016/5072/20160...</td>\n",
              "      <td>0.900940</td>\n",
              "      <td>0.927373</td>\n",
              "      <td>0.312146</td>\n",
              "      <td>0.750467</td>\n",
              "      <td>0.092025</td>\n",
              "      <td>0.411151</td>\n",
              "      <td>0.140868</td>\n",
              "      <td>0.008380</td>\n",
              "      <td>0.206049</td>\n",
              "      <td>0.681784</td>\n",
              "      <td>0.551437</td>\n",
              "      <td>0.856103</td>\n",
              "      <td>0.852708</td>\n",
              "      <td>0.862066</td>\n",
              "      <td>0.865263</td>\n",
              "      <td>0.824744</td>\n",
              "      <td>0.926200</td>\n",
              "      <td>0.762048</td>\n",
              "      <td>0.788822</td>\n",
              "      <td>0.881069</td>\n",
              "      <td>1</td>\n",
              "      <td>21</td>\n",
              "      <td>4</td>\n",
              "      <td>4/GUAM5072__0__2016</td>\n",
              "      <td>b</td>\n",
              "    </tr>\n",
              "    <tr>\n",
              "      <th>14263</th>\n",
              "      <td>/home/david/Música/Bioacustica/2016/5072/20160...</td>\n",
              "      <td>0.904896</td>\n",
              "      <td>0.950447</td>\n",
              "      <td>0.317586</td>\n",
              "      <td>0.961174</td>\n",
              "      <td>0.119632</td>\n",
              "      <td>0.419648</td>\n",
              "      <td>0.180424</td>\n",
              "      <td>0.001318</td>\n",
              "      <td>0.214695</td>\n",
              "      <td>0.655305</td>\n",
              "      <td>0.563414</td>\n",
              "      <td>0.977020</td>\n",
              "      <td>0.873035</td>\n",
              "      <td>0.875801</td>\n",
              "      <td>0.794838</td>\n",
              "      <td>0.858433</td>\n",
              "      <td>0.714089</td>\n",
              "      <td>0.837505</td>\n",
              "      <td>0.907074</td>\n",
              "      <td>0.925859</td>\n",
              "      <td>1</td>\n",
              "      <td>21</td>\n",
              "      <td>4</td>\n",
              "      <td>4/GUAM5072__0__2016</td>\n",
              "      <td>b</td>\n",
              "    </tr>\n",
              "    <tr>\n",
              "      <th>14264</th>\n",
              "      <td>/home/david/Música/Bioacustica/2016/5072/20160...</td>\n",
              "      <td>0.902059</td>\n",
              "      <td>0.867411</td>\n",
              "      <td>0.306083</td>\n",
              "      <td>0.543506</td>\n",
              "      <td>0.000000</td>\n",
              "      <td>0.420649</td>\n",
              "      <td>0.332790</td>\n",
              "      <td>0.000953</td>\n",
              "      <td>0.199054</td>\n",
              "      <td>0.693329</td>\n",
              "      <td>0.539868</td>\n",
              "      <td>0.841833</td>\n",
              "      <td>0.767684</td>\n",
              "      <td>0.728255</td>\n",
              "      <td>0.684228</td>\n",
              "      <td>0.659735</td>\n",
              "      <td>0.772443</td>\n",
              "      <td>0.862463</td>\n",
              "      <td>0.838874</td>\n",
              "      <td>0.771934</td>\n",
              "      <td>1</td>\n",
              "      <td>11</td>\n",
              "      <td>2</td>\n",
              "      <td>4/GUAM5072__0__2016</td>\n",
              "      <td>b</td>\n",
              "    </tr>\n",
              "    <tr>\n",
              "      <th>14265</th>\n",
              "      <td>/home/david/Música/Bioacustica/2016/5072/20160...</td>\n",
              "      <td>0.902933</td>\n",
              "      <td>0.934397</td>\n",
              "      <td>0.312719</td>\n",
              "      <td>0.577613</td>\n",
              "      <td>0.000000</td>\n",
              "      <td>0.440356</td>\n",
              "      <td>0.423217</td>\n",
              "      <td>0.005276</td>\n",
              "      <td>0.209795</td>\n",
              "      <td>0.711977</td>\n",
              "      <td>0.531170</td>\n",
              "      <td>0.875209</td>\n",
              "      <td>0.832721</td>\n",
              "      <td>0.515148</td>\n",
              "      <td>0.730352</td>\n",
              "      <td>0.825683</td>\n",
              "      <td>0.836965</td>\n",
              "      <td>0.923016</td>\n",
              "      <td>0.866016</td>\n",
              "      <td>0.887122</td>\n",
              "      <td>1</td>\n",
              "      <td>12</td>\n",
              "      <td>2</td>\n",
              "      <td>4/GUAM5072__0__2016</td>\n",
              "      <td>b</td>\n",
              "    </tr>\n",
              "    <tr>\n",
              "      <th>14266</th>\n",
              "      <td>/home/david/Música/Bioacustica/2016/5072/20160...</td>\n",
              "      <td>0.899237</td>\n",
              "      <td>0.931347</td>\n",
              "      <td>0.349790</td>\n",
              "      <td>0.458872</td>\n",
              "      <td>0.282209</td>\n",
              "      <td>0.424969</td>\n",
              "      <td>0.661983</td>\n",
              "      <td>0.000535</td>\n",
              "      <td>0.194671</td>\n",
              "      <td>0.729982</td>\n",
              "      <td>0.530765</td>\n",
              "      <td>0.930959</td>\n",
              "      <td>0.884301</td>\n",
              "      <td>0.837655</td>\n",
              "      <td>0.917192</td>\n",
              "      <td>0.887738</td>\n",
              "      <td>0.577360</td>\n",
              "      <td>0.896997</td>\n",
              "      <td>0.950995</td>\n",
              "      <td>0.938936</td>\n",
              "      <td>1</td>\n",
              "      <td>8</td>\n",
              "      <td>4</td>\n",
              "      <td>4/GUAM5072__0__2016</td>\n",
              "      <td>b</td>\n",
              "    </tr>\n",
              "  </tbody>\n",
              "</table>\n",
              "<p>14267 rows × 26 columns</p>\n",
              "</div>"
            ],
            "text/plain": [
              "                                                    name  ...  zone\n",
              "0      /media/microp/DavidDD/bioacustica/2016/5067/20...  ...     b\n",
              "1      /media/microp/DavidDD/bioacustica/2016/5067/20...  ...     b\n",
              "2      /media/microp/DavidDD/bioacustica/2016/5067/20...  ...     b\n",
              "3      /media/microp/DavidDD/bioacustica/2016/5067/20...  ...     b\n",
              "4      /media/microp/DavidDD/bioacustica/2016/5067/20...  ...     b\n",
              "...                                                  ...  ...   ...\n",
              "14262  /home/david/Música/Bioacustica/2016/5072/20160...  ...     b\n",
              "14263  /home/david/Música/Bioacustica/2016/5072/20160...  ...     b\n",
              "14264  /home/david/Música/Bioacustica/2016/5072/20160...  ...     b\n",
              "14265  /home/david/Música/Bioacustica/2016/5072/20160...  ...     b\n",
              "14266  /home/david/Música/Bioacustica/2016/5072/20160...  ...     b\n",
              "\n",
              "[14267 rows x 26 columns]"
            ]
          },
          "metadata": {
            "tags": []
          },
          "execution_count": 47
        }
      ]
    },
    {
      "cell_type": "code",
      "metadata": {
        "id": "Ctb_Xe4vXoK0",
        "colab_type": "code",
        "colab": {}
      },
      "source": [
        "x=normalized_df.iloc[:,1:21]\n",
        "x=normalized_df[['ESM','WE','NDSI','SC', 'SB', 'Tonnets']]\n",
        "#x=normalized_df[['ACIf','Tonnets']]"
      ],
      "execution_count": 0,
      "outputs": []
    },
    {
      "cell_type": "markdown",
      "metadata": {
        "id": "oZVQwK-7uAVZ",
        "colab_type": "text"
      },
      "source": [
        "# "
      ]
    },
    {
      "cell_type": "markdown",
      "metadata": {
        "id": "MucpOuk9tglo",
        "colab_type": "text"
      },
      "source": [
        "# GMM used to generalize the clasification between areas"
      ]
    },
    {
      "cell_type": "code",
      "metadata": {
        "id": "EmKmU05RVGA-",
        "colab_type": "code",
        "outputId": "0c28311a-192f-459a-a65c-8349e0406070",
        "colab": {
          "base_uri": "https://localhost:8080/",
          "height": 439
        }
      },
      "source": [
        "\n",
        "dats= normalized_df.drop([\"name\",\t\"ACIf\",\"FM\", \"CF\", \"Tonnets\"], axis=1)\n",
        "dats\n"
      ],
      "execution_count": 0,
      "outputs": [
        {
          "output_type": "execute_result",
          "data": {
            "text/html": [
              "<div>\n",
              "<style scoped>\n",
              "    .dataframe tbody tr th:only-of-type {\n",
              "        vertical-align: middle;\n",
              "    }\n",
              "\n",
              "    .dataframe tbody tr th {\n",
              "        vertical-align: top;\n",
              "    }\n",
              "\n",
              "    .dataframe thead th {\n",
              "        text-align: right;\n",
              "    }\n",
              "</style>\n",
              "<table border=\"1\" class=\"dataframe\">\n",
              "  <thead>\n",
              "    <tr style=\"text-align: right;\">\n",
              "      <th></th>\n",
              "      <th>ESM</th>\n",
              "      <th>MD</th>\n",
              "      <th>NDSI</th>\n",
              "      <th>MID</th>\n",
              "      <th>WE</th>\n",
              "      <th>SC</th>\n",
              "      <th>SB</th>\n",
              "      <th>ADIm1</th>\n",
              "      <th>ADIm2</th>\n",
              "      <th>ADIm3</th>\n",
              "      <th>ADIm4</th>\n",
              "      <th>ADIm5</th>\n",
              "      <th>ADIm6</th>\n",
              "      <th>ADIm7</th>\n",
              "      <th>ADIm8</th>\n",
              "      <th>ADIm9</th>\n",
              "      <th>label</th>\n",
              "      <th>hora</th>\n",
              "      <th>etapa</th>\n",
              "      <th>grabadora</th>\n",
              "      <th>zone</th>\n",
              "    </tr>\n",
              "  </thead>\n",
              "  <tbody>\n",
              "    <tr>\n",
              "      <th>0</th>\n",
              "      <td>0.854634</td>\n",
              "      <td>0.281328</td>\n",
              "      <td>0.996915</td>\n",
              "      <td>0.153374</td>\n",
              "      <td>0.045856</td>\n",
              "      <td>0.375167</td>\n",
              "      <td>0.587507</td>\n",
              "      <td>0.918625</td>\n",
              "      <td>0.937785</td>\n",
              "      <td>0.726701</td>\n",
              "      <td>0.905833</td>\n",
              "      <td>0.648586</td>\n",
              "      <td>0.833795</td>\n",
              "      <td>0.649817</td>\n",
              "      <td>0.750013</td>\n",
              "      <td>0.886193</td>\n",
              "      <td>1</td>\n",
              "      <td>0</td>\n",
              "      <td>4</td>\n",
              "      <td>/ESPAN5067__0__2016</td>\n",
              "      <td>b</td>\n",
              "    </tr>\n",
              "    <tr>\n",
              "      <th>1</th>\n",
              "      <td>0.846968</td>\n",
              "      <td>0.280822</td>\n",
              "      <td>0.995847</td>\n",
              "      <td>0.153374</td>\n",
              "      <td>0.059065</td>\n",
              "      <td>0.375034</td>\n",
              "      <td>0.610523</td>\n",
              "      <td>0.917923</td>\n",
              "      <td>0.921454</td>\n",
              "      <td>0.758994</td>\n",
              "      <td>0.852933</td>\n",
              "      <td>0.621452</td>\n",
              "      <td>0.790348</td>\n",
              "      <td>0.698227</td>\n",
              "      <td>0.714015</td>\n",
              "      <td>0.540214</td>\n",
              "      <td>1</td>\n",
              "      <td>0</td>\n",
              "      <td>4</td>\n",
              "      <td>/ESPAN5067__0__2016</td>\n",
              "      <td>b</td>\n",
              "    </tr>\n",
              "    <tr>\n",
              "      <th>2</th>\n",
              "      <td>0.884632</td>\n",
              "      <td>0.292923</td>\n",
              "      <td>0.994353</td>\n",
              "      <td>0.153374</td>\n",
              "      <td>0.062735</td>\n",
              "      <td>0.372892</td>\n",
              "      <td>0.614567</td>\n",
              "      <td>0.886690</td>\n",
              "      <td>0.945146</td>\n",
              "      <td>0.843724</td>\n",
              "      <td>0.902216</td>\n",
              "      <td>0.664461</td>\n",
              "      <td>0.788691</td>\n",
              "      <td>0.708678</td>\n",
              "      <td>0.844339</td>\n",
              "      <td>0.915005</td>\n",
              "      <td>1</td>\n",
              "      <td>0</td>\n",
              "      <td>4</td>\n",
              "      <td>/ESPAN5067__0__2016</td>\n",
              "      <td>b</td>\n",
              "    </tr>\n",
              "    <tr>\n",
              "      <th>3</th>\n",
              "      <td>0.872104</td>\n",
              "      <td>0.286877</td>\n",
              "      <td>0.994956</td>\n",
              "      <td>0.153374</td>\n",
              "      <td>0.064977</td>\n",
              "      <td>0.379157</td>\n",
              "      <td>0.600476</td>\n",
              "      <td>0.901828</td>\n",
              "      <td>0.932725</td>\n",
              "      <td>0.878224</td>\n",
              "      <td>0.898822</td>\n",
              "      <td>0.645697</td>\n",
              "      <td>0.795907</td>\n",
              "      <td>0.696124</td>\n",
              "      <td>0.770526</td>\n",
              "      <td>0.897796</td>\n",
              "      <td>1</td>\n",
              "      <td>0</td>\n",
              "      <td>4</td>\n",
              "      <td>/ESPAN5067__0__2016</td>\n",
              "      <td>b</td>\n",
              "    </tr>\n",
              "    <tr>\n",
              "      <th>4</th>\n",
              "      <td>0.871872</td>\n",
              "      <td>0.280962</td>\n",
              "      <td>0.996682</td>\n",
              "      <td>0.153374</td>\n",
              "      <td>0.049128</td>\n",
              "      <td>0.378275</td>\n",
              "      <td>0.571871</td>\n",
              "      <td>0.946958</td>\n",
              "      <td>0.924578</td>\n",
              "      <td>0.817461</td>\n",
              "      <td>0.866384</td>\n",
              "      <td>0.645318</td>\n",
              "      <td>0.813696</td>\n",
              "      <td>0.708630</td>\n",
              "      <td>0.830519</td>\n",
              "      <td>0.754631</td>\n",
              "      <td>1</td>\n",
              "      <td>0</td>\n",
              "      <td>4</td>\n",
              "      <td>/ESPAN5067__0__2016</td>\n",
              "      <td>b</td>\n",
              "    </tr>\n",
              "    <tr>\n",
              "      <th>...</th>\n",
              "      <td>...</td>\n",
              "      <td>...</td>\n",
              "      <td>...</td>\n",
              "      <td>...</td>\n",
              "      <td>...</td>\n",
              "      <td>...</td>\n",
              "      <td>...</td>\n",
              "      <td>...</td>\n",
              "      <td>...</td>\n",
              "      <td>...</td>\n",
              "      <td>...</td>\n",
              "      <td>...</td>\n",
              "      <td>...</td>\n",
              "      <td>...</td>\n",
              "      <td>...</td>\n",
              "      <td>...</td>\n",
              "      <td>...</td>\n",
              "      <td>...</td>\n",
              "      <td>...</td>\n",
              "      <td>...</td>\n",
              "      <td>...</td>\n",
              "    </tr>\n",
              "    <tr>\n",
              "      <th>14262</th>\n",
              "      <td>0.927373</td>\n",
              "      <td>0.312146</td>\n",
              "      <td>0.750467</td>\n",
              "      <td>0.092025</td>\n",
              "      <td>0.140868</td>\n",
              "      <td>0.206049</td>\n",
              "      <td>0.681784</td>\n",
              "      <td>0.856103</td>\n",
              "      <td>0.852708</td>\n",
              "      <td>0.862066</td>\n",
              "      <td>0.865263</td>\n",
              "      <td>0.824744</td>\n",
              "      <td>0.926200</td>\n",
              "      <td>0.762048</td>\n",
              "      <td>0.788822</td>\n",
              "      <td>0.881069</td>\n",
              "      <td>1</td>\n",
              "      <td>21</td>\n",
              "      <td>4</td>\n",
              "      <td>4/GUAM5072__0__2016</td>\n",
              "      <td>b</td>\n",
              "    </tr>\n",
              "    <tr>\n",
              "      <th>14263</th>\n",
              "      <td>0.950447</td>\n",
              "      <td>0.317586</td>\n",
              "      <td>0.961174</td>\n",
              "      <td>0.119632</td>\n",
              "      <td>0.180424</td>\n",
              "      <td>0.214695</td>\n",
              "      <td>0.655305</td>\n",
              "      <td>0.977020</td>\n",
              "      <td>0.873035</td>\n",
              "      <td>0.875801</td>\n",
              "      <td>0.794838</td>\n",
              "      <td>0.858433</td>\n",
              "      <td>0.714089</td>\n",
              "      <td>0.837505</td>\n",
              "      <td>0.907074</td>\n",
              "      <td>0.925859</td>\n",
              "      <td>1</td>\n",
              "      <td>21</td>\n",
              "      <td>4</td>\n",
              "      <td>4/GUAM5072__0__2016</td>\n",
              "      <td>b</td>\n",
              "    </tr>\n",
              "    <tr>\n",
              "      <th>14264</th>\n",
              "      <td>0.867411</td>\n",
              "      <td>0.306083</td>\n",
              "      <td>0.543506</td>\n",
              "      <td>0.000000</td>\n",
              "      <td>0.332790</td>\n",
              "      <td>0.199054</td>\n",
              "      <td>0.693329</td>\n",
              "      <td>0.841833</td>\n",
              "      <td>0.767684</td>\n",
              "      <td>0.728255</td>\n",
              "      <td>0.684228</td>\n",
              "      <td>0.659735</td>\n",
              "      <td>0.772443</td>\n",
              "      <td>0.862463</td>\n",
              "      <td>0.838874</td>\n",
              "      <td>0.771934</td>\n",
              "      <td>1</td>\n",
              "      <td>11</td>\n",
              "      <td>2</td>\n",
              "      <td>4/GUAM5072__0__2016</td>\n",
              "      <td>b</td>\n",
              "    </tr>\n",
              "    <tr>\n",
              "      <th>14265</th>\n",
              "      <td>0.934397</td>\n",
              "      <td>0.312719</td>\n",
              "      <td>0.577613</td>\n",
              "      <td>0.000000</td>\n",
              "      <td>0.423217</td>\n",
              "      <td>0.209795</td>\n",
              "      <td>0.711977</td>\n",
              "      <td>0.875209</td>\n",
              "      <td>0.832721</td>\n",
              "      <td>0.515148</td>\n",
              "      <td>0.730352</td>\n",
              "      <td>0.825683</td>\n",
              "      <td>0.836965</td>\n",
              "      <td>0.923016</td>\n",
              "      <td>0.866016</td>\n",
              "      <td>0.887122</td>\n",
              "      <td>1</td>\n",
              "      <td>12</td>\n",
              "      <td>2</td>\n",
              "      <td>4/GUAM5072__0__2016</td>\n",
              "      <td>b</td>\n",
              "    </tr>\n",
              "    <tr>\n",
              "      <th>14266</th>\n",
              "      <td>0.931347</td>\n",
              "      <td>0.349790</td>\n",
              "      <td>0.458872</td>\n",
              "      <td>0.282209</td>\n",
              "      <td>0.661983</td>\n",
              "      <td>0.194671</td>\n",
              "      <td>0.729982</td>\n",
              "      <td>0.930959</td>\n",
              "      <td>0.884301</td>\n",
              "      <td>0.837655</td>\n",
              "      <td>0.917192</td>\n",
              "      <td>0.887738</td>\n",
              "      <td>0.577360</td>\n",
              "      <td>0.896997</td>\n",
              "      <td>0.950995</td>\n",
              "      <td>0.938936</td>\n",
              "      <td>1</td>\n",
              "      <td>8</td>\n",
              "      <td>4</td>\n",
              "      <td>4/GUAM5072__0__2016</td>\n",
              "      <td>b</td>\n",
              "    </tr>\n",
              "  </tbody>\n",
              "</table>\n",
              "<p>14267 rows × 21 columns</p>\n",
              "</div>"
            ],
            "text/plain": [
              "            ESM        MD      NDSI  ...  etapa            grabadora  zone\n",
              "0      0.854634  0.281328  0.996915  ...      4  /ESPAN5067__0__2016     b\n",
              "1      0.846968  0.280822  0.995847  ...      4  /ESPAN5067__0__2016     b\n",
              "2      0.884632  0.292923  0.994353  ...      4  /ESPAN5067__0__2016     b\n",
              "3      0.872104  0.286877  0.994956  ...      4  /ESPAN5067__0__2016     b\n",
              "4      0.871872  0.280962  0.996682  ...      4  /ESPAN5067__0__2016     b\n",
              "...         ...       ...       ...  ...    ...                  ...   ...\n",
              "14262  0.927373  0.312146  0.750467  ...      4  4/GUAM5072__0__2016     b\n",
              "14263  0.950447  0.317586  0.961174  ...      4  4/GUAM5072__0__2016     b\n",
              "14264  0.867411  0.306083  0.543506  ...      2  4/GUAM5072__0__2016     b\n",
              "14265  0.934397  0.312719  0.577613  ...      2  4/GUAM5072__0__2016     b\n",
              "14266  0.931347  0.349790  0.458872  ...      4  4/GUAM5072__0__2016     b\n",
              "\n",
              "[14267 rows x 21 columns]"
            ]
          },
          "metadata": {
            "tags": []
          },
          "execution_count": 7
        }
      ]
    },
    {
      "cell_type": "code",
      "metadata": {
        "id": "mHGhLfXtZz_H",
        "colab_type": "code",
        "colab": {}
      },
      "source": [
        "import pandas as pd\n",
        "from sklearn import datasets, linear_model\n",
        "from sklearn.model_selection import train_test_split\n",
        "datax= dats.iloc[:,:7]\n",
        "datay= dats.label\n",
        "lim=7\n",
        "#datax=x.iloc[:,0:lim]\n",
        "#datay=normalized_df.label\n",
        "X_train, X_test, y_train, y_test = train_test_split(datax.iloc[:,:16], datay, test_size=0.2, stratify=datay)\n",
        "X_test, X_val, y_test,y_val = train_test_split(X_test, y_test, test_size=0.1, stratify=y_test)"
      ],
      "execution_count": 0,
      "outputs": []
    },
    {
      "cell_type": "code",
      "metadata": {
        "id": "NzZ0bbSnzqDp",
        "colab_type": "code",
        "colab": {}
      },
      "source": [
        "#split data per class for train\n",
        "X_train['trans']=y_train \n",
        "lim=7\n",
        "tr1=X_train.loc[X_train['trans'] == 0].iloc[:,0:lim]\n",
        "tr2=X_train.loc[X_train['trans'] == 1].iloc[:,0:lim]\n",
        "tr3=X_train.loc[X_train['trans'] == 2].iloc[:,0:lim] "
      ],
      "execution_count": 0,
      "outputs": []
    },
    {
      "cell_type": "code",
      "metadata": {
        "id": "d_rlyO6b1JLb",
        "colab_type": "code",
        "outputId": "cb4f2f42-1838-4774-c31e-05a668622b01",
        "colab": {
          "base_uri": "https://localhost:8080/",
          "height": 107
        }
      },
      "source": [
        "from sklearn import mixture\n",
        "gmmtr1 = mixture.GaussianMixture(n_components=10, covariance_type='diag',max_iter=500)\n",
        "gmmtr1.fit(tr1)\n",
        "gmmtr2 = mixture.GaussianMixture(n_components=10, covariance_type='diag',max_iter=500)\n",
        "gmmtr2.fit(tr2)\n",
        "gmmtr3 = mixture.GaussianMixture(n_components=10, covariance_type='diag',max_iter=500)\n",
        "gmmtr3.fit(tr3)"
      ],
      "execution_count": 0,
      "outputs": [
        {
          "output_type": "execute_result",
          "data": {
            "text/plain": [
              "GaussianMixture(covariance_type='diag', init_params='kmeans', max_iter=500,\n",
              "                means_init=None, n_components=10, n_init=1,\n",
              "                precisions_init=None, random_state=None, reg_covar=1e-06,\n",
              "                tol=0.001, verbose=0, verbose_interval=10, warm_start=False,\n",
              "                weights_init=None)"
            ]
          },
          "metadata": {
            "tags": []
          },
          "execution_count": 15
        }
      ]
    },
    {
      "cell_type": "code",
      "metadata": {
        "id": "KJj7cWMYoYsB",
        "colab_type": "code",
        "outputId": "90f424fa-219c-4111-be33-e173a62bdb97",
        "colab": {
          "base_uri": "https://localhost:8080/",
          "height": 53
        }
      },
      "source": [
        "gmmtr1.weights_"
      ],
      "execution_count": 0,
      "outputs": [
        {
          "output_type": "execute_result",
          "data": {
            "text/plain": [
              "array([0.1032123 , 0.09832837, 0.21799567, 0.05661732, 0.0995712 ,\n",
              "       0.0311972 , 0.14972068, 0.06489599, 0.09407565, 0.08438562])"
            ]
          },
          "metadata": {
            "tags": []
          },
          "execution_count": 61
        }
      ]
    },
    {
      "cell_type": "code",
      "metadata": {
        "id": "LyOjqKn1nqGq",
        "colab_type": "code",
        "colab": {}
      },
      "source": [
        "from scipy.stats import norm\n",
        "\n",
        "def mix_pdf(x, loc, scale, weights):\n",
        "    d = np.zeros_like(x)\n",
        "    for mu, sigma, pi in zip(loc, scale, weights):\n",
        "        d += pi * norm.pdf(x, loc=mu, scale=sigma)\n",
        "    return d"
      ],
      "execution_count": 0,
      "outputs": []
    },
    {
      "cell_type": "code",
      "metadata": {
        "id": "hE2_Xz5lnroI",
        "colab_type": "code",
        "outputId": "e8c73bb8-e26d-4a54-c2f5-3d4c4a086ce5",
        "colab": {
          "base_uri": "https://localhost:8080/",
          "height": 632
        }
      },
      "source": [
        "pi, mu, sigma = gmmtr1.weights_.flatten(), gmmtr1.means_.flatten(), np.sqrt(gmmtr1.covariances_.flatten())\n",
        "grid = np.arange(np.min(tr1.iloc[:,3]), np.max(tr1.iloc[:,3]), 0.01)\n",
        "plt.plot(grid, mix_pdf(grid, mu, sigma, pi), label='varying weights')"
      ],
      "execution_count": 0,
      "outputs": [
        {
          "output_type": "execute_result",
          "data": {
            "text/plain": [
              "[<matplotlib.lines.Line2D at 0x7f5423efc5f8>]"
            ]
          },
          "metadata": {
            "tags": []
          },
          "execution_count": 64
        },
        {
          "output_type": "display_data",
          "data": {
            "image/png": "[encoded data removed]",
            "text/plain": [
              "<Figure size 1080x720 with 1 Axes>"
            ]
          },
          "metadata": {
            "tags": []
          }
        }
      ]
    },
    {
      "cell_type": "code",
      "metadata": {
        "id": "3zb0VJnt0n6x",
        "colab_type": "code",
        "outputId": "961b106d-e59d-4030-cfe8-c5265da4eebe",
        "colab": {
          "base_uri": "https://localhost:8080/",
          "height": 899
        }
      },
      "source": [
        "from sklearn.metrics import accuracy_score\n",
        "from sklearn import mixture\n",
        "\n",
        "def choosebestclassmatchgmm(obj):\n",
        "    a= [gmmtr1.score(obj) ,gmmtr2.score(obj),gmmtr3.score(obj)]\n",
        "    classi=a.index(max(a))\n",
        "    return classi\n",
        "\n",
        "\n",
        "accuracies=[]\n",
        "for i in range(1,50):\n",
        "  \n",
        "      gmmtr1 = mixture.GaussianMixture(n_components=i, covariance_type='diag',max_iter=500)\n",
        "      gmmtr1.fit(tr1)\n",
        "      gmmtr2 = mixture.GaussianMixture(n_components=i, covariance_type='diag',max_iter=500)\n",
        "      gmmtr2.fit(tr2)\n",
        "      gmmtr3 = mixture.GaussianMixture(n_components=i, covariance_type='diag',max_iter=500)\n",
        "      gmmtr3.fit(tr3)\n",
        "\n",
        "      predict=[]\n",
        "      for i in range(len(X_test)):\n",
        "              predict.append(choosebestclassmatchgmm(X_test.iloc[i,:].values.reshape(1, -1)))\n",
        "      at=accuracy_score(predict,y_test)\n",
        "      print(at)\n",
        "      accuracies.append(at)"
      ],
      "execution_count": 0,
      "outputs": [
        {
          "output_type": "stream",
          "text": [
            "0.7589563862928349\n",
            "0.7842679127725857\n",
            "0.830607476635514\n",
            "0.8485202492211839\n",
            "0.8820093457943925\n",
            "0.8788940809968847\n",
            "0.8905763239875389\n",
            "0.8703271028037384\n",
            "0.8921339563862928\n",
            "0.8726635514018691\n",
            "0.9080996884735203\n",
            "0.9065420560747663\n",
            "0.9057632398753894\n",
            "0.9209501557632399\n",
            "0.9135514018691588\n",
            "0.926791277258567\n",
            "0.9252336448598131\n",
            "0.9244548286604362\n",
            "0.9232866043613707\n",
            "0.9190031152647975\n",
            "0.932632398753894\n",
            "0.9279595015576324\n",
            "0.9353582554517134\n",
            "0.9380841121495327\n",
            "0.9291277258566978\n",
            "0.9427570093457944\n",
            "0.9310747663551402\n",
            "0.9291277258566978\n",
            "0.9396417445482866\n",
            "0.9334112149532711\n",
            "0.9388629283489096\n",
            "0.9361370716510904\n",
            "0.9466510903426791\n",
            "0.9369158878504673\n",
            "0.9373052959501558\n",
            "0.9454828660436138\n",
            "0.9411993769470405\n",
            "0.9353582554517134\n",
            "0.9462616822429907\n",
            "0.9513239875389408\n",
            "0.9404205607476636\n",
            "0.9521028037383178\n",
            "0.9497663551401869\n",
            "0.9443146417445483\n",
            "0.9521028037383178\n",
            "0.9501557632398754\n",
            "0.9532710280373832\n",
            "0.9505451713395638\n",
            "0.9548286604361371\n"
          ],
          "name": "stdout"
        }
      ]
    },
    {
      "cell_type": "code",
      "metadata": {
        "id": "m6MhL9O96VvV",
        "colab_type": "code",
        "outputId": "86a59601-a7a2-4b8e-9df0-939ea15e2ee1",
        "colab": {
          "base_uri": "https://localhost:8080/",
          "height": 649
        }
      },
      "source": [
        "import matplotlib.pyplot as plt\n",
        "plt.plot(accuracies)\n",
        "plt.xlabel(\"number of components\")\n",
        "plt.ylabel(\"Accuracy score\")"
      ],
      "execution_count": 0,
      "outputs": [
        {
          "output_type": "execute_result",
          "data": {
            "text/plain": [
              "Text(0, 0.5, 'Accuracy score')"
            ]
          },
          "metadata": {
            "tags": []
          },
          "execution_count": 75
        },
        {
          "output_type": "display_data",
          "data": {
            "image/png": "[encoded data removed]",
            "text/plain": [
              "<Figure size 1080x720 with 1 Axes>"
            ]
          },
          "metadata": {
            "tags": []
          }
        }
      ]
    },
    {
      "cell_type": "code",
      "metadata": {
        "id": "Cdol5fIDXxUJ",
        "colab_type": "code",
        "colab": {}
      },
      "source": [
        "accuracys = []\n",
        "lim=7\n",
        "from sklearn.metrics import accuracy_score\n",
        "\n",
        "def choosebestclassmatchgmm(obj):\n",
        "    a= [gmmtr1.score(obj) ,gmmtr2.score(obj),gmmtr3.score(obj)]\n",
        "    classi=a.index(max(a))\n",
        "    return classi\n",
        "\n",
        "\n",
        "#X_ubm, X_test, y_ubm, y_test = train_test_split(datax, datay, test_size=0.5,random_state=0, stratify=datay)\n",
        "components_number=25\n",
        "for i in range(10):\n",
        "    X_ubm, X_test, y_ubm, y_test = train_test_split(datax, datay, test_size=0.5, stratify=datay)\n",
        "    X_gmm, X_val, y_gmm,y_val = train_test_split(X_test, y_test, test_size=0.4, stratify=y_test)\n",
        "    \n",
        "\n",
        "    X_train['trans']=y_train \n",
        "    lim=7\n",
        "    tr1=X_train.loc[X_train['trans'] == 0].iloc[:,0:lim]\n",
        "    tr2=X_train.loc[X_train['trans'] == 1].iloc[:,0:lim]\n",
        "    tr3=X_train.loc[X_train['trans'] == 2].iloc[:,0:lim] \n",
        "\n",
        "    gmmtr1 = mixture.GaussianMixture(n_components=components_number, covariance_type='diag',max_iter=500)\n",
        "    gmmtr1.fit(tr1)\n",
        "    gmmtr2 = mixture.GaussianMixture(n_components=components_number, covariance_type='diag',max_iter=500)\n",
        "    gmmtr2.fit(tr2)\n",
        "    gmmtr3 = mixture.GaussianMixture(n_components=components_number, covariance_type='diag',max_iter=500)\n",
        "    gmmtr3.fit(tr3)\n",
        "\n",
        "    predict=[]\n",
        "    for i in range(len(X_test)):\n",
        "            predict.append(choosebestclassmatchgmm(X_test.iloc[i,:].values.reshape(1, -1)))\n",
        "    at=accuracy_score(predict,y_test)\n",
        "    print(at)\n",
        "    accuracies.append(at)\n"
      ],
      "execution_count": 0,
      "outputs": []
    },
    {
      "cell_type": "code",
      "metadata": {
        "id": "_3FSZd_bdi2e",
        "colab_type": "code",
        "outputId": "23273678-8b30-493b-972c-8fc9b6d1bc7b",
        "colab": {
          "base_uri": "https://localhost:8080/",
          "height": 35
        }
      },
      "source": [
        "predictval"
      ],
      "execution_count": 0,
      "outputs": [
        {
          "output_type": "execute_result",
          "data": {
            "text/plain": [
              "[0]"
            ]
          },
          "metadata": {
            "tags": []
          },
          "execution_count": 85
        }
      ]
    },
    {
      "cell_type": "code",
      "metadata": {
        "id": "xdp2YYuVakyH",
        "colab_type": "code",
        "outputId": "f0595f36-04ce-4dad-ff73-bba09d8ed667",
        "colab": {
          "base_uri": "https://localhost:8080/",
          "height": 35
        }
      },
      "source": [
        "predictval=[]\n",
        "def choosebestclassmatchgmm(obj):\n",
        "    a= [gmmtr1.score(obj) ,gmmtr2.score(obj),gmmtr3.score(obj)]\n",
        "    classi=a.index(max(a))\n",
        "    return classi\n",
        "\n",
        "\n",
        "for i in range(len(X_val)):\n",
        "    predictval.append(choosebestclassmatchgmm(X_val.iloc[i,:].values.reshape(1, -1)))\n",
        "at=accuracy_score(predictval,y_val)\n",
        "print(at)    "
      ],
      "execution_count": 0,
      "outputs": [
        {
          "output_type": "stream",
          "text": [
            "0.9383321653819201\n"
          ],
          "name": "stdout"
        }
      ]
    },
    {
      "cell_type": "code",
      "metadata": {
        "id": "TtQBnV8Ye8Gn",
        "colab_type": "code",
        "outputId": "18a64a81-d32d-4419-a2cb-4a2a98fbc7f8",
        "colab": {
          "base_uri": "https://localhost:8080/",
          "height": 197
        }
      },
      "source": [
        "from sklearn.metrics import classification_report,roc_curve,roc_auc_score\n",
        "from sklearn.metrics import precision_score\n",
        "print(classification_report(y_val,predictval))"
      ],
      "execution_count": 0,
      "outputs": [
        {
          "output_type": "stream",
          "text": [
            "              precision    recall  f1-score   support\n",
            "\n",
            "           0       0.72      0.92      0.81       396\n",
            "           1       0.99      0.96      0.98      1795\n",
            "           2       0.96      0.88      0.92       663\n",
            "\n",
            "    accuracy                           0.94      2854\n",
            "   macro avg       0.89      0.92      0.90      2854\n",
            "weighted avg       0.95      0.94      0.94      2854\n",
            "\n"
          ],
          "name": "stdout"
        }
      ]
    },
    {
      "cell_type": "code",
      "metadata": {
        "id": "adxm7iQpfGJ5",
        "colab_type": "code",
        "outputId": "88f8f60e-94ac-459a-813c-2f5243848136",
        "colab": {
          "base_uri": "https://localhost:8080/",
          "height": 440
        }
      },
      "source": [
        "def plot_confusion_matrix(y_true, y_pred, classes,size,\n",
        "                          normalize=False,\n",
        "                          title=None,\n",
        "                          cmap=plt.cm.Blues):\n",
        "    \"\"\"\n",
        "    This function prints and plots the confusion matrix.\n",
        "    Normalization can be applied by setting `normalize=True`.\n",
        "    \"\"\"\n",
        "    if not title:\n",
        "        if normalize:\n",
        "            title = 'Normalized confusion matrix'\n",
        "        else:\n",
        "            title = 'Confusion matrix, without normalization'\n",
        "\n",
        "    # Compute confusion matrix\n",
        "    cm = confusion_matrix(y_true, y_pred)\n",
        "    # Only use the labels that appear in the data\n",
        "    classes = classes[unique_labels(y_true, y_pred)]\n",
        "    if normalize:\n",
        "        cm = cm.astype('float') / cm.sum(axis=1)[:, np.newaxis]\n",
        "        print(\"Normalized confusion matrix\")\n",
        "    else:\n",
        "        print('Confusion matrix, without normalization')\n",
        "\n",
        "    print(cm)\n",
        "\n",
        "    fig, ax = plt.subplots(figsize=(size,size))\n",
        "    im = ax.imshow(cm, interpolation='nearest', cmap=cmap)\n",
        "    ax.figure.colorbar(im, ax=ax)\n",
        "    # We want to show all ticks...\n",
        "    ax.set(xticks=np.arange(cm.shape[1]),\n",
        "           yticks=np.arange(cm.shape[0]),\n",
        "           # ... and label them with the respective list entries\n",
        "           xticklabels=classes, yticklabels=classes,\n",
        "           title=title,\n",
        "           ylabel='True label',\n",
        "           xlabel='Predicted label')\n",
        "\n",
        "    # Rotate the tick labels and set their alignment.\n",
        "    plt.setp(ax.get_xticklabels(), rotation=45, ha=\"right\",\n",
        "             rotation_mode=\"anchor\")\n",
        "\n",
        "    # Loop over data dimensions and create text annotations.\n",
        "    fmt = '.2f' if normalize else 'd'\n",
        "    thresh = cm.max() / 2.\n",
        "    for i in range(cm.shape[0]):\n",
        "        for j in range(cm.shape[1]):\n",
        "            ax.text(j, i, format(cm[i, j], fmt),\n",
        "                    ha=\"center\", va=\"center\",\n",
        "                    color=\"white\" if cm[i, j] > thresh else \"black\")\n",
        "    fig.tight_layout()\n",
        "    return ax\n",
        "  #{'Alta':2,'Baja':0,'Media':1}\n",
        "import numpy as np\n",
        "from sklearn.metrics import confusion_matrix\n",
        "from sklearn.utils.multiclass import unique_labels\n",
        "a=np.array([0,1,2])\n",
        "a=np.array(['Low','Medium','High'])\n",
        "plot_confusion_matrix(y_val,predictval,a,size=5)"
      ],
      "execution_count": 0,
      "outputs": [
        {
          "output_type": "stream",
          "text": [
            "Confusion matrix, without normalization\n",
            "[[ 366    6   24]\n",
            " [  65 1729    1]\n",
            " [  75    5  583]]\n"
          ],
          "name": "stdout"
        },
        {
          "output_type": "execute_result",
          "data": {
            "text/plain": [
              "<matplotlib.axes._subplots.AxesSubplot at 0x7fcdae850d30>"
            ]
          },
          "metadata": {
            "tags": []
          },
          "execution_count": 21
        },
        {
          "output_type": "display_data",
          "data": {
            "image/png": "[encoded data removed]",
            "text/plain": [
              "<Figure size 360x360 with 2 Axes>"
            ]
          },
          "metadata": {
            "tags": []
          }
        }
      ]
    },
    {
      "cell_type": "markdown",
      "metadata": {
        "id": "t99polOVgTiX",
        "colab_type": "text"
      },
      "source": [
        "Other Clasifiers"
      ]
    },
    {
      "cell_type": "code",
      "metadata": {
        "id": "lCLd1nSjgSpd",
        "colab_type": "code",
        "colab": {}
      },
      "source": [
        "import pandas as pd\n",
        "import numpy as np\n",
        "\n",
        "from sklearn.model_selection import GridSearchCV\n",
        "\n",
        "class EstimatorSelectionHelper:\n",
        "\n",
        "    def __init__(self, models, params):\n",
        "        if not set(models.keys()).issubset(set(params.keys())):\n",
        "            missing_params = list(set(models.keys()) - set(params.keys()))\n",
        "            raise ValueError(\"Some estimators are missing parameters: %s\" % missing_params)\n",
        "        self.models = models\n",
        "        self.params = params\n",
        "        self.keys = models.keys()\n",
        "        self.grid_searches = {}\n",
        "\n",
        "    def fit(self, X, y, cv=3, n_jobs=3, verbose=1, scoring=None, refit=False):\n",
        "        for key in self.keys:\n",
        "            print(\"Running GridSearchCV for %s.\" % key)\n",
        "            model = self.models[key]\n",
        "            params = self.params[key]\n",
        "            gs = GridSearchCV(model, params, cv=cv, n_jobs=n_jobs,\n",
        "                              verbose=verbose, scoring=scoring, refit=refit,\n",
        "                              return_train_score=True)\n",
        "            gs.fit(X,y)\n",
        "            self.grid_searches[key] = gs    \n",
        "\n",
        "    def score_summary(self, sort_by='mean_score'):\n",
        "        def row(key, scores, params):\n",
        "            d = {\n",
        "                 'estimator': key,\n",
        "                 'min_score': min(scores),\n",
        "                 'max_score': max(scores),\n",
        "                 'mean_score': np.mean(scores),\n",
        "                 'std_score': np.std(scores),\n",
        "            }\n",
        "            return pd.Series({**params,**d})\n",
        "\n",
        "        rows = []\n",
        "        for k in self.grid_searches:\n",
        "            print(k)\n",
        "            params = self.grid_searches[k].cv_results_['params']\n",
        "            scores = []\n",
        "            for i in range(self.grid_searches[k].cv):\n",
        "                key = \"split{}_test_score\".format(i)\n",
        "                r = self.grcomponents_number=25\n",
        "id_searches[k].cv_results_[key]        \n",
        "                scores.append(r.reshape(len(params),1))\n",
        "\n",
        "            all_scores = np.hstack(scores)\n",
        "            for p, s in zip(params,all_scores):\n",
        "                rows.append((row(k, s, p)))\n",
        "\n",
        "        df = pd.concat(rows, axis=1).T.sort_values([sort_by], ascending=False)\n",
        "\n",
        "        columns = ['estimator', 'min_score', 'mean_score', 'max_score', 'std_score']\n",
        "        columns = columns + [c for c in df.columns if c not in columns]\n",
        "\n",
        "        return df[columns]"
      ],
      "execution_count": 0,
      "outputs": []
    },
    {
      "cell_type": "code",
      "metadata": {
        "id": "wIbEBwpfgaJM",
        "colab_type": "code",
        "outputId": "6c10a1ae-1f2e-4594-8b75-50475a908c9f",
        "colab": {
          "base_uri": "https://localhost:8080/",
          "height": 1000
        }
      },
      "source": [
        "datax= dats.iloc[:,:7]\n",
        "datay= dats.label\n",
        "X =datax\n",
        "y =datay\n",
        "\n",
        "from sklearn.ensemble import ExtraTreesClassifier\n",
        "from sklearn.ensemble import RandomForestClassifier\n",
        "from sklearn.ensemble import AdaBoostClassifier\n",
        "from sklearn.ensemble import GradientBoostingClassifier\n",
        "from sklearn.svm import SVC\n",
        "\n",
        "models1 = {\n",
        "    'ExtraTreesClassifier': ExtraTreesClassifier(),\n",
        "    'RandomForestClassifier': RandomForestClassifier(),\n",
        "    'AdaBoostClassifier': AdaBoostClassifier(),\n",
        "    'GradientBoostingClassifier': GradientBoostingClassifier(),\n",
        "    'SVC': SVC()\n",
        "}\n",
        "\n",
        "params1 = {\n",
        "    'ExtraTreesClassifier': { 'n_estimators': [16, 32] },\n",
        "    'RandomForestClassifier': { 'n_estimators': [16, 32] },\n",
        "    'AdaBoostClassifier':  { 'n_estimators': [16, 32] },\n",
        "    'GradientBoostingClassifier': { 'n_estimators': [16, 32], 'learning_rate': [0.8, 1.0] },\n",
        "    'SVC': [\n",
        "        {'kernel': ['linear'], 'C': [1, 10]},\n",
        "        {'kernel': ['rbf'], 'C': [1, 10], 'gamma': [0.001, 0.0001]},\n",
        "    ]\n",
        "}\n",
        "helper1 = EstimatorSelectionHelper(models1, params1)\n",
        "helper1.fit(X, y, scoring='accuracy', n_jobs=2)\n",
        "helper1.score_summary()"
      ],
      "execution_count": 0,
      "outputs": [
        {
          "output_type": "stream",
          "text": [
            "Running GridSearchCV for ExtraTreesClassifier.\n",
            "Fitting 3 folds for each of 2 candidates, totalling 6 fits\n"
          ],
          "name": "stdout"
        },
        {
          "output_type": "stream",
          "text": [
            "[Parallel(n_jobs=2)]: Using backend LokyBackend with 2 concurrent workers.\n",
            "[Parallel(n_jobs=2)]: Done   6 out of   6 | elapsed:    1.3s finished\n",
            "[Parallel(n_jobs=2)]: Using backend LokyBackend with 2 concurrent workers.\n"
          ],
          "name": "stderr"
        },
        {
          "output_type": "stream",
          "text": [
            "Running GridSearchCV for RandomForestClassifier.\n",
            "Fitting 3 folds for each of 2 candidates, totalling 6 fits\n"
          ],
          "name": "stdout"
        },
        {
          "output_type": "stream",
          "text": [
            "[Parallel(n_jobs=2)]: Done   6 out of   6 | elapsed:    3.0s finished\n",
            "[Parallel(n_jobs=2)]: Using backend LokyBackend with 2 concurrent workers.\n"
          ],
          "name": "stderr"
        },
        {
          "output_type": "stream",
          "text": [
            "Running GridSearchCV for AdaBoostClassifier.\n",
            "Fitting 3 folds for each of 2 candidates, totalling 6 fits\n"
          ],
          "name": "stdout"
        },
        {
          "output_type": "stream",
          "text": [
            "[Parallel(n_jobs=2)]: Done   6 out of   6 | elapsed:    2.6s finished\n",
            "[Parallel(n_jobs=2)]: Using backend LokyBackend with 2 concurrent workers.\n"
          ],
          "name": "stderr"
        },
        {
          "output_type": "stream",
          "text": [
            "Running GridSearchCV for GradientBoostingClassifier.\n",
            "Fitting 3 folds for each of 4 candidates, totalling 12 fits\n"
          ],
          "name": "stdout"
        },
        {
          "output_type": "stream",
          "text": [
            "[Parallel(n_jobs=2)]: Done  12 out of  12 | elapsed:   26.5s finished\n",
            "[Parallel(n_jobs=2)]: Using backend LokyBackend with 2 concurrent workers.\n"
          ],
          "name": "stderr"
        },
        {
          "output_type": "stream",
          "text": [
            "Running GridSearchCV for SVC.\n",
            "Fitting 3 folds for each of 6 candidates, totalling 18 fits\n"
          ],
          "name": "stdout"
        },
        {
          "output_type": "stream",
          "text": [
            "/usr/local/lib/python3.6/dist-packages/joblib/externals/loky/process_executor.py:706: UserWarning: A worker stopped while some jobs were given to the executor. This can be caused by a too short worker timeout or by a memory leak.\n",
            "  \"timeout or by a memory leak.\", UserWarning\n"
          ],
          "name": "stderr"
        },
        {
          "output_type": "stream",
          "text": [
            "ExtraTreesClassifier\n",
            "RandomForestClassifier\n",
            "AdaBoostClassifier\n",
            "GradientBoostingClassifier\n",
            "SVC\n"
          ],
          "name": "stdout"
        },
        {
          "output_type": "stream",
          "text": [
            "[Parallel(n_jobs=2)]: Done  18 out of  18 | elapsed:  2.7min finished\n",
            "/usr/local/lib/python3.6/dist-packages/ipykernel_launcher.py:53: FutureWarning: Sorting because non-concatenation axis is not aligned. A future version\n",
            "of pandas will change to not sort by default.\n",
            "\n",
            "To accept the future behavior, pass 'sort=False'.\n",
            "\n",
            "To retain the current behavior and silence the warning, pass 'sort=True'.\n",
            "\n"
          ],
          "name": "stderr"
        },
        {
          "output_type": "execute_result",
          "data": {
            "text/html": [
              "<div>\n",
              "<style scoped>\n",
              "    .dataframe tbody tr th:only-of-type {\n",
              "        vertical-align: middle;\n",
              "    }\n",
              "\n",
              "    .dataframe tbody tr th {\n",
              "        vertical-align: top;\n",
              "    }\n",
              "\n",
              "    .dataframe thead th {\n",
              "        text-align: right;\n",
              "    }\n",
              "</style>\n",
              "<table border=\"1\" class=\"dataframe\">\n",
              "  <thead>\n",
              "    <tr style=\"text-align: right;\">\n",
              "      <th></th>\n",
              "      <th>estimator</th>\n",
              "      <th>min_score</th>\n",
              "      <th>mean_score</th>\n",
              "      <th>max_score</th>\n",
              "      <th>std_score</th>\n",
              "      <th>C</th>\n",
              "      <th>gamma</th>\n",
              "      <th>kernel</th>\n",
              "      <th>learning_rate</th>\n",
              "      <th>n_estimators</th>\n",
              "    </tr>\n",
              "  </thead>\n",
              "  <tbody>\n",
              "    <tr>\n",
              "      <th>1</th>\n",
              "      <td>ExtraTreesClassifier</td>\n",
              "      <td>0.718023</td>\n",
              "      <td>0.797896</td>\n",
              "      <td>0.939507</td>\n",
              "      <td>0.100408</td>\n",
              "      <td>NaN</td>\n",
              "      <td>NaN</td>\n",
              "      <td>NaN</td>\n",
              "      <td>NaN</td>\n",
              "      <td>32</td>\n",
              "    </tr>\n",
              "    <tr>\n",
              "      <th>3</th>\n",
              "      <td>RandomForestClassifier</td>\n",
              "      <td>0.71747</td>\n",
              "      <td>0.79665</td>\n",
              "      <td>0.925111</td>\n",
              "      <td>0.0916519</td>\n",
              "      <td>NaN</td>\n",
              "      <td>NaN</td>\n",
              "      <td>NaN</td>\n",
              "      <td>NaN</td>\n",
              "      <td>32</td>\n",
              "    </tr>\n",
              "    <tr>\n",
              "      <th>0</th>\n",
              "      <td>ExtraTreesClassifier</td>\n",
              "      <td>0.719684</td>\n",
              "      <td>0.784376</td>\n",
              "      <td>0.910161</td>\n",
              "      <td>0.0889552</td>\n",
              "      <td>NaN</td>\n",
              "      <td>NaN</td>\n",
              "      <td>NaN</td>\n",
              "      <td>NaN</td>\n",
              "      <td>16</td>\n",
              "    </tr>\n",
              "    <tr>\n",
              "      <th>2</th>\n",
              "      <td>RandomForestClassifier</td>\n",
              "      <td>0.720792</td>\n",
              "      <td>0.781331</td>\n",
              "      <td>0.900471</td>\n",
              "      <td>0.0842483</td>\n",
              "      <td>NaN</td>\n",
              "      <td>NaN</td>\n",
              "      <td>NaN</td>\n",
              "      <td>NaN</td>\n",
              "      <td>16</td>\n",
              "    </tr>\n",
              "    <tr>\n",
              "      <th>7</th>\n",
              "      <td>GradientBoostingClassifier</td>\n",
              "      <td>0.676218</td>\n",
              "      <td>0.752538</td>\n",
              "      <td>0.816445</td>\n",
              "      <td>0.0579163</td>\n",
              "      <td>NaN</td>\n",
              "      <td>NaN</td>\n",
              "      <td>NaN</td>\n",
              "      <td>0.8</td>\n",
              "      <td>32</td>\n",
              "    </tr>\n",
              "    <tr>\n",
              "      <th>9</th>\n",
              "      <td>GradientBoostingClassifier</td>\n",
              "      <td>0.640504</td>\n",
              "      <td>0.745893</td>\n",
              "      <td>0.856589</td>\n",
              "      <td>0.0882962</td>\n",
              "      <td>NaN</td>\n",
              "      <td>NaN</td>\n",
              "      <td>NaN</td>\n",
              "      <td>1</td>\n",
              "      <td>32</td>\n",
              "    </tr>\n",
              "    <tr>\n",
              "      <th>6</th>\n",
              "      <td>GradientBoostingClassifier</td>\n",
              "      <td>0.67608</td>\n",
              "      <td>0.738141</td>\n",
              "      <td>0.780592</td>\n",
              "      <td>0.0448639</td>\n",
              "      <td>NaN</td>\n",
              "      <td>NaN</td>\n",
              "      <td>NaN</td>\n",
              "      <td>0.8</td>\n",
              "      <td>16</td>\n",
              "    </tr>\n",
              "    <tr>\n",
              "      <th>8</th>\n",
              "      <td>GradientBoostingClassifier</td>\n",
              "      <td>0.647148</td>\n",
              "      <td>0.73002</td>\n",
              "      <td>0.81866</td>\n",
              "      <td>0.070138</td>\n",
              "      <td>NaN</td>\n",
              "      <td>NaN</td>\n",
              "      <td>NaN</td>\n",
              "      <td>1</td>\n",
              "      <td>16</td>\n",
              "    </tr>\n",
              "    <tr>\n",
              "      <th>12</th>\n",
              "      <td>SVC</td>\n",
              "      <td>0.61531</td>\n",
              "      <td>0.615356</td>\n",
              "      <td>0.615449</td>\n",
              "      <td>6.52553e-05</td>\n",
              "      <td>1</td>\n",
              "      <td>0.001</td>\n",
              "      <td>rbf</td>\n",
              "      <td>NaN</td>\n",
              "      <td>NaN</td>\n",
              "    </tr>\n",
              "    <tr>\n",
              "      <th>13</th>\n",
              "      <td>SVC</td>\n",
              "      <td>0.61531</td>\n",
              "      <td>0.615356</td>\n",
              "      <td>0.615449</td>\n",
              "      <td>6.52553e-05</td>\n",
              "      <td>1</td>\n",
              "      <td>0.0001</td>\n",
              "      <td>rbf</td>\n",
              "      <td>NaN</td>\n",
              "      <td>NaN</td>\n",
              "    </tr>\n",
              "    <tr>\n",
              "      <th>15</th>\n",
              "      <td>SVC</td>\n",
              "      <td>0.61531</td>\n",
              "      <td>0.615356</td>\n",
              "      <td>0.615449</td>\n",
              "      <td>6.52553e-05</td>\n",
              "      <td>10</td>\n",
              "      <td>0.0001</td>\n",
              "      <td>rbf</td>\n",
              "      <td>NaN</td>\n",
              "      <td>NaN</td>\n",
              "    </tr>\n",
              "    <tr>\n",
              "      <th>4</th>\n",
              "      <td>AdaBoostClassifier</td>\n",
              "      <td>0.359773</td>\n",
              "      <td>0.555694</td>\n",
              "      <td>0.733527</td>\n",
              "      <td>0.15312</td>\n",
              "      <td>NaN</td>\n",
              "      <td>NaN</td>\n",
              "      <td>NaN</td>\n",
              "      <td>NaN</td>\n",
              "      <td>16</td>\n",
              "    </tr>\n",
              "    <tr>\n",
              "      <th>5</th>\n",
              "      <td>AdaBoostClassifier</td>\n",
              "      <td>0.26938</td>\n",
              "      <td>0.52021</td>\n",
              "      <td>0.698643</td>\n",
              "      <td>0.18257</td>\n",
              "      <td>NaN</td>\n",
              "      <td>NaN</td>\n",
              "      <td>NaN</td>\n",
              "      <td>NaN</td>\n",
              "      <td>32</td>\n",
              "    </tr>\n",
              "    <tr>\n",
              "      <th>14</th>\n",
              "      <td>SVC</td>\n",
              "      <td>0.318798</td>\n",
              "      <td>0.495432</td>\n",
              "      <td>0.61448</td>\n",
              "      <td>0.127394</td>\n",
              "      <td>10</td>\n",
              "      <td>0.001</td>\n",
              "      <td>rbf</td>\n",
              "      <td>NaN</td>\n",
              "      <td>NaN</td>\n",
              "    </tr>\n",
              "    <tr>\n",
              "      <th>10</th>\n",
              "      <td>SVC</td>\n",
              "      <td>0.329457</td>\n",
              "      <td>0.442183</td>\n",
              "      <td>0.566999</td>\n",
              "      <td>0.097352</td>\n",
              "      <td>1</td>\n",
              "      <td>NaN</td>\n",
              "      <td>linear</td>\n",
              "      <td>NaN</td>\n",
              "      <td>NaN</td>\n",
              "    </tr>\n",
              "    <tr>\n",
              "      <th>11</th>\n",
              "      <td>SVC</td>\n",
              "      <td>0.328212</td>\n",
              "      <td>0.440476</td>\n",
              "      <td>0.5634</td>\n",
              "      <td>0.0963106</td>\n",
              "      <td>10</td>\n",
              "      <td>NaN</td>\n",
              "      <td>linear</td>\n",
              "      <td>NaN</td>\n",
              "      <td>NaN</td>\n",
              "    </tr>\n",
              "  </tbody>\n",
              "</table>\n",
              "</div>"
            ],
            "text/plain": [
              "                     estimator min_score  ... learning_rate n_estimators\n",
              "1         ExtraTreesClassifier  0.718023  ...           NaN           32\n",
              "3       RandomForestClassifier   0.71747  ...           NaN           32\n",
              "0         ExtraTreesClassifier  0.719684  ...           NaN           16\n",
              "2       RandomForestClassifier  0.720792  ...           NaN           16\n",
              "7   GradientBoostingClassifier  0.676218  ...           0.8           32\n",
              "9   GradientBoostingClassifier  0.640504  ...             1           32\n",
              "6   GradientBoostingClassifier   0.67608  ...           0.8           16\n",
              "8   GradientBoostingClassifier  0.647148  ...             1           16\n",
              "12                         SVC   0.61531  ...           NaN          NaN\n",
              "13                         SVC   0.61531  ...           NaN          NaN\n",
              "15                         SVC   0.61531  ...           NaN          NaN\n",
              "4           AdaBoostClassifier  0.359773  ...           NaN           16\n",
              "5           AdaBoostClassifier   0.26938  ...           NaN           32\n",
              "14                         SVC  0.318798  ...           NaN          NaN\n",
              "10                         SVC  0.329457  ...           NaN          NaN\n",
              "11                         SVC  0.328212  ...           NaN          NaN\n",
              "\n",
              "[16 rows x 10 columns]"
            ]
          },
          "metadata": {
            "tags": []
          },
          "execution_count": 149
        }
      ]
    },
    {
      "cell_type": "markdown",
      "metadata": {
        "id": "WouhOrrmiTdm",
        "colab_type": "text"
      },
      "source": [
        "# guajira"
      ]
    },
    {
      "cell_type": "code",
      "metadata": {
        "id": "iczpZIv_iAKX",
        "colab_type": "code",
        "outputId": "25ad9a48-e02c-4e36-c12e-68a1a063a022",
        "colab": {
          "base_uri": "https://localhost:8080/",
          "height": 627
        }
      },
      "source": [
        "datos =  pd.read_csv(\"guajira.csv\")\n",
        "datos"
      ],
      "execution_count": 0,
      "outputs": [
        {
          "output_type": "stream",
          "text": [
            "/content/drive/My Drive/bioacustica/Resultadosenero07\n"
          ],
          "name": "stdout"
        },
        {
          "output_type": "execute_result",
          "data": {
            "text/html": [
              "<div>\n",
              "<style scoped>\n",
              "    .dataframe tbody tr th:only-of-type {\n",
              "        vertical-align: middle;\n",
              "    }\n",
              "\n",
              "    .dataframe tbody tr th {\n",
              "        vertical-align: top;\n",
              "    }\n",
              "\n",
              "    .dataframe thead th {\n",
              "        text-align: right;\n",
              "    }\n",
              "</style>\n",
              "<table border=\"1\" class=\"dataframe\">\n",
              "  <thead>\n",
              "    <tr style=\"text-align: right;\">\n",
              "      <th></th>\n",
              "      <th>name</th>\n",
              "      <th>ACIf</th>\n",
              "      <th>ESM</th>\n",
              "      <th>MD</th>\n",
              "      <th>NDSI</th>\n",
              "      <th>MID</th>\n",
              "      <th>FM</th>\n",
              "      <th>WE</th>\n",
              "      <th>CF</th>\n",
              "      <th>SC</th>\n",
              "      <th>SB</th>\n",
              "      <th>Tonnets</th>\n",
              "      <th>ADIm1</th>\n",
              "      <th>ADIm2</th>\n",
              "      <th>ADIm3</th>\n",
              "      <th>ADIm4</th>\n",
              "      <th>ADIm5</th>\n",
              "      <th>ADIm6</th>\n",
              "      <th>ADIm7</th>\n",
              "      <th>ADIm8</th>\n",
              "      <th>ADIm9</th>\n",
              "      <th>label</th>\n",
              "      <th>hora</th>\n",
              "      <th>etapa</th>\n",
              "      <th>grabadora</th>\n",
              "      <th>zone</th>\n",
              "    </tr>\n",
              "  </thead>\n",
              "  <tbody>\n",
              "    <tr>\n",
              "      <th>0</th>\n",
              "      <td>/media/microp/DavidDD/bioacustica/2016/302151/...</td>\n",
              "      <td>0.895452</td>\n",
              "      <td>0.867282</td>\n",
              "      <td>0.467304</td>\n",
              "      <td>0.966325</td>\n",
              "      <td>0.018405</td>\n",
              "      <td>0.648280</td>\n",
              "      <td>0.029465</td>\n",
              "      <td>0.001836</td>\n",
              "      <td>0.377291</td>\n",
              "      <td>0.552523</td>\n",
              "      <td>0.587895</td>\n",
              "      <td>0.920963</td>\n",
              "      <td>0.945029</td>\n",
              "      <td>0.867738</td>\n",
              "      <td>0.896951</td>\n",
              "      <td>0.810338</td>\n",
              "      <td>0.778639</td>\n",
              "      <td>0.536468</td>\n",
              "      <td>0.877493</td>\n",
              "      <td>0.912124</td>\n",
              "      <td>1</td>\n",
              "      <td>0</td>\n",
              "      <td>4</td>\n",
              "      <td>OLO-302151__0__2016</td>\n",
              "      <td>g</td>\n",
              "    </tr>\n",
              "    <tr>\n",
              "      <th>1</th>\n",
              "      <td>/media/microp/DavidDD/bioacustica/2016/302151/...</td>\n",
              "      <td>0.895488</td>\n",
              "      <td>0.908406</td>\n",
              "      <td>0.453123</td>\n",
              "      <td>0.980696</td>\n",
              "      <td>0.003067</td>\n",
              "      <td>0.652910</td>\n",
              "      <td>0.028795</td>\n",
              "      <td>0.001952</td>\n",
              "      <td>0.386899</td>\n",
              "      <td>0.559192</td>\n",
              "      <td>0.583475</td>\n",
              "      <td>0.875070</td>\n",
              "      <td>0.881452</td>\n",
              "      <td>0.807069</td>\n",
              "      <td>0.810283</td>\n",
              "      <td>0.804210</td>\n",
              "      <td>0.747379</td>\n",
              "      <td>0.537879</td>\n",
              "      <td>0.883287</td>\n",
              "      <td>0.894554</td>\n",
              "      <td>1</td>\n",
              "      <td>0</td>\n",
              "      <td>4</td>\n",
              "      <td>OLO-302151__0__2016</td>\n",
              "      <td>g</td>\n",
              "    </tr>\n",
              "    <tr>\n",
              "      <th>2</th>\n",
              "      <td>/media/microp/DavidDD/bioacustica/2016/302151/...</td>\n",
              "      <td>0.894475</td>\n",
              "      <td>0.914618</td>\n",
              "      <td>0.458898</td>\n",
              "      <td>0.906203</td>\n",
              "      <td>0.125767</td>\n",
              "      <td>0.658092</td>\n",
              "      <td>0.063776</td>\n",
              "      <td>0.000869</td>\n",
              "      <td>0.360998</td>\n",
              "      <td>0.724380</td>\n",
              "      <td>0.550503</td>\n",
              "      <td>0.927234</td>\n",
              "      <td>0.934141</td>\n",
              "      <td>0.849074</td>\n",
              "      <td>0.869873</td>\n",
              "      <td>0.734389</td>\n",
              "      <td>0.646573</td>\n",
              "      <td>0.598610</td>\n",
              "      <td>0.908381</td>\n",
              "      <td>0.942854</td>\n",
              "      <td>1</td>\n",
              "      <td>0</td>\n",
              "      <td>4</td>\n",
              "      <td>OLO-302151__0__2016</td>\n",
              "      <td>g</td>\n",
              "    </tr>\n",
              "    <tr>\n",
              "      <th>3</th>\n",
              "      <td>/media/microp/DavidDD/bioacustica/2016/302151/...</td>\n",
              "      <td>0.894351</td>\n",
              "      <td>0.925893</td>\n",
              "      <td>0.439432</td>\n",
              "      <td>0.929386</td>\n",
              "      <td>0.119632</td>\n",
              "      <td>0.649800</td>\n",
              "      <td>0.042596</td>\n",
              "      <td>0.001307</td>\n",
              "      <td>0.356602</td>\n",
              "      <td>0.651678</td>\n",
              "      <td>0.595691</td>\n",
              "      <td>0.905295</td>\n",
              "      <td>0.917064</td>\n",
              "      <td>0.849598</td>\n",
              "      <td>0.806129</td>\n",
              "      <td>0.790120</td>\n",
              "      <td>0.687616</td>\n",
              "      <td>0.603289</td>\n",
              "      <td>0.879746</td>\n",
              "      <td>0.877237</td>\n",
              "      <td>1</td>\n",
              "      <td>0</td>\n",
              "      <td>4</td>\n",
              "      <td>OLO-302151__0__2016</td>\n",
              "      <td>g</td>\n",
              "    </tr>\n",
              "    <tr>\n",
              "      <th>4</th>\n",
              "      <td>/media/microp/DavidDD/bioacustica/2016/302151/...</td>\n",
              "      <td>0.895155</td>\n",
              "      <td>0.910974</td>\n",
              "      <td>0.442196</td>\n",
              "      <td>0.981205</td>\n",
              "      <td>0.039877</td>\n",
              "      <td>0.638534</td>\n",
              "      <td>0.027250</td>\n",
              "      <td>0.002164</td>\n",
              "      <td>0.379340</td>\n",
              "      <td>0.582113</td>\n",
              "      <td>0.535492</td>\n",
              "      <td>0.902839</td>\n",
              "      <td>0.847248</td>\n",
              "      <td>0.852855</td>\n",
              "      <td>0.704368</td>\n",
              "      <td>0.811376</td>\n",
              "      <td>0.745813</td>\n",
              "      <td>0.658889</td>\n",
              "      <td>0.813718</td>\n",
              "      <td>0.951751</td>\n",
              "      <td>1</td>\n",
              "      <td>0</td>\n",
              "      <td>4</td>\n",
              "      <td>OLO-302151__0__2016</td>\n",
              "      <td>g</td>\n",
              "    </tr>\n",
              "    <tr>\n",
              "      <th>...</th>\n",
              "      <td>...</td>\n",
              "      <td>...</td>\n",
              "      <td>...</td>\n",
              "      <td>...</td>\n",
              "      <td>...</td>\n",
              "      <td>...</td>\n",
              "      <td>...</td>\n",
              "      <td>...</td>\n",
              "      <td>...</td>\n",
              "      <td>...</td>\n",
              "      <td>...</td>\n",
              "      <td>...</td>\n",
              "      <td>...</td>\n",
              "      <td>...</td>\n",
              "      <td>...</td>\n",
              "      <td>...</td>\n",
              "      <td>...</td>\n",
              "      <td>...</td>\n",
              "      <td>...</td>\n",
              "      <td>...</td>\n",
              "      <td>...</td>\n",
              "      <td>...</td>\n",
              "      <td>...</td>\n",
              "      <td>...</td>\n",
              "      <td>...</td>\n",
              "      <td>...</td>\n",
              "    </tr>\n",
              "    <tr>\n",
              "      <th>21667</th>\n",
              "      <td>/home/david/Música/Bioacustica/2016/5071/20161...</td>\n",
              "      <td>0.887604</td>\n",
              "      <td>0.951083</td>\n",
              "      <td>0.474842</td>\n",
              "      <td>0.494545</td>\n",
              "      <td>1.000000</td>\n",
              "      <td>0.646617</td>\n",
              "      <td>0.223196</td>\n",
              "      <td>0.000315</td>\n",
              "      <td>0.040085</td>\n",
              "      <td>0.405549</td>\n",
              "      <td>0.567153</td>\n",
              "      <td>0.965974</td>\n",
              "      <td>0.883117</td>\n",
              "      <td>0.447054</td>\n",
              "      <td>0.219279</td>\n",
              "      <td>0.598607</td>\n",
              "      <td>0.543051</td>\n",
              "      <td>0.637110</td>\n",
              "      <td>0.856362</td>\n",
              "      <td>0.899736</td>\n",
              "      <td>2</td>\n",
              "      <td>8</td>\n",
              "      <td>4</td>\n",
              "      <td>/RMT2-5071__0__2016</td>\n",
              "      <td>g</td>\n",
              "    </tr>\n",
              "    <tr>\n",
              "      <th>21668</th>\n",
              "      <td>/home/david/Música/Bioacustica/2016/5071/20161...</td>\n",
              "      <td>0.891489</td>\n",
              "      <td>0.811300</td>\n",
              "      <td>0.450851</td>\n",
              "      <td>0.924019</td>\n",
              "      <td>0.153374</td>\n",
              "      <td>0.665792</td>\n",
              "      <td>0.089213</td>\n",
              "      <td>0.000180</td>\n",
              "      <td>0.077886</td>\n",
              "      <td>0.388360</td>\n",
              "      <td>0.597698</td>\n",
              "      <td>0.920283</td>\n",
              "      <td>0.889968</td>\n",
              "      <td>0.802586</td>\n",
              "      <td>0.586166</td>\n",
              "      <td>0.835712</td>\n",
              "      <td>0.865427</td>\n",
              "      <td>0.670497</td>\n",
              "      <td>0.835641</td>\n",
              "      <td>0.914526</td>\n",
              "      <td>2</td>\n",
              "      <td>21</td>\n",
              "      <td>4</td>\n",
              "      <td>/RMT2-5071__0__2016</td>\n",
              "      <td>g</td>\n",
              "    </tr>\n",
              "    <tr>\n",
              "      <th>21669</th>\n",
              "      <td>/home/david/Música/Bioacustica/2016/5071/20161...</td>\n",
              "      <td>0.888506</td>\n",
              "      <td>0.836212</td>\n",
              "      <td>0.405657</td>\n",
              "      <td>0.951088</td>\n",
              "      <td>0.190184</td>\n",
              "      <td>0.646272</td>\n",
              "      <td>0.038934</td>\n",
              "      <td>0.001247</td>\n",
              "      <td>0.123929</td>\n",
              "      <td>0.352639</td>\n",
              "      <td>0.599276</td>\n",
              "      <td>0.944941</td>\n",
              "      <td>0.903799</td>\n",
              "      <td>0.861288</td>\n",
              "      <td>0.803000</td>\n",
              "      <td>0.866115</td>\n",
              "      <td>0.849063</td>\n",
              "      <td>0.643144</td>\n",
              "      <td>0.873575</td>\n",
              "      <td>0.899527</td>\n",
              "      <td>2</td>\n",
              "      <td>1</td>\n",
              "      <td>4</td>\n",
              "      <td>/RMT2-5071__0__2016</td>\n",
              "      <td>g</td>\n",
              "    </tr>\n",
              "    <tr>\n",
              "      <th>21670</th>\n",
              "      <td>/home/david/Música/Bioacustica/2016/5071/20161...</td>\n",
              "      <td>0.889485</td>\n",
              "      <td>0.854535</td>\n",
              "      <td>0.455124</td>\n",
              "      <td>0.937530</td>\n",
              "      <td>0.165644</td>\n",
              "      <td>0.655932</td>\n",
              "      <td>0.097562</td>\n",
              "      <td>0.000184</td>\n",
              "      <td>0.073346</td>\n",
              "      <td>0.385557</td>\n",
              "      <td>0.572907</td>\n",
              "      <td>0.956522</td>\n",
              "      <td>0.908791</td>\n",
              "      <td>0.860708</td>\n",
              "      <td>0.698032</td>\n",
              "      <td>0.869949</td>\n",
              "      <td>0.818621</td>\n",
              "      <td>0.625914</td>\n",
              "      <td>0.900889</td>\n",
              "      <td>0.875480</td>\n",
              "      <td>2</td>\n",
              "      <td>22</td>\n",
              "      <td>4</td>\n",
              "      <td>/RMT2-5071__0__2016</td>\n",
              "      <td>g</td>\n",
              "    </tr>\n",
              "    <tr>\n",
              "      <th>21671</th>\n",
              "      <td>/home/david/Música/Bioacustica/2016/5071/20161...</td>\n",
              "      <td>0.887684</td>\n",
              "      <td>0.942041</td>\n",
              "      <td>0.423869</td>\n",
              "      <td>0.757563</td>\n",
              "      <td>1.000000</td>\n",
              "      <td>0.634020</td>\n",
              "      <td>0.063448</td>\n",
              "      <td>0.000994</td>\n",
              "      <td>0.051810</td>\n",
              "      <td>0.397927</td>\n",
              "      <td>0.542903</td>\n",
              "      <td>0.971023</td>\n",
              "      <td>0.797909</td>\n",
              "      <td>0.206956</td>\n",
              "      <td>0.006191</td>\n",
              "      <td>0.073594</td>\n",
              "      <td>0.055317</td>\n",
              "      <td>0.661294</td>\n",
              "      <td>0.837449</td>\n",
              "      <td>0.846948</td>\n",
              "      <td>2</td>\n",
              "      <td>11</td>\n",
              "      <td>2</td>\n",
              "      <td>/RMT2-5071__0__2016</td>\n",
              "      <td>g</td>\n",
              "    </tr>\n",
              "  </tbody>\n",
              "</table>\n",
              "<p>21672 rows × 26 columns</p>\n",
              "</div>"
            ],
            "text/plain": [
              "                                                    name  ...  zone\n",
              "0      /media/microp/DavidDD/bioacustica/2016/302151/...  ...     g\n",
              "1      /media/microp/DavidDD/bioacustica/2016/302151/...  ...     g\n",
              "2      /media/microp/DavidDD/bioacustica/2016/302151/...  ...     g\n",
              "3      /media/microp/DavidDD/bioacustica/2016/302151/...  ...     g\n",
              "4      /media/microp/DavidDD/bioacustica/2016/302151/...  ...     g\n",
              "...                                                  ...  ...   ...\n",
              "21667  /home/david/Música/Bioacustica/2016/5071/20161...  ...     g\n",
              "21668  /home/david/Música/Bioacustica/2016/5071/20161...  ...     g\n",
              "21669  /home/david/Música/Bioacustica/2016/5071/20161...  ...     g\n",
              "21670  /home/david/Música/Bioacustica/2016/5071/20161...  ...     g\n",
              "21671  /home/david/Música/Bioacustica/2016/5071/20161...  ...     g\n",
              "\n",
              "[21672 rows x 26 columns]"
            ]
          },
          "metadata": {
            "tags": []
          },
          "execution_count": 22
        }
      ]
    },
    {
      "cell_type": "code",
      "metadata": {
        "id": "waCK2qS4iWO0",
        "colab_type": "code",
        "outputId": "7ab744fa-15d6-42d7-beb9-78f0b676b660",
        "colab": {
          "base_uri": "https://localhost:8080/",
          "height": 340
        }
      },
      "source": [
        "dafos=datos.drop_duplicates(subset=['ACIf', 'ESM','MD'],keep=False)\n",
        "from sklearn.preprocessing import MinMaxScaler\n",
        "scaler = MinMaxScaler()\n",
        "datos.iloc[:,1:21] = scaler.fit_transform(datos.iloc[:,1:21])\n",
        "normalized_df = datos[datos.label != 'na']\n",
        "normalized_df['label'].value_counts().plot(kind='bar')"
      ],
      "execution_count": 0,
      "outputs": [
        {
          "output_type": "stream",
          "text": [
            "/usr/local/lib/python3.6/dist-packages/pandas/core/ops/__init__.py:1115: FutureWarning: elementwise comparison failed; returning scalar instead, but in the future will perform elementwise comparison\n",
            "  result = method(y)\n"
          ],
          "name": "stderr"
        },
        {
          "output_type": "execute_result",
          "data": {
            "text/plain": [
              "<matplotlib.axes._subplots.AxesSubplot at 0x7fcdae83f208>"
            ]
          },
          "metadata": {
            "tags": []
          },
          "execution_count": 23
        },
        {
          "output_type": "display_data",
          "data": {
            "image/png": "[encoded data removed]",
            "text/plain": [
              "<Figure size 432x288 with 1 Axes>"
            ]
          },
          "metadata": {
            "tags": []
          }
        }
      ]
    },
    {
      "cell_type": "code",
      "metadata": {
        "id": "QFtQYKu5GREB",
        "colab_type": "code",
        "outputId": "15ae1ce0-bd19-4027-813e-a27364b9cc1a",
        "colab": {
          "base_uri": "https://localhost:8080/",
          "height": 89
        }
      },
      "source": [
        "normalized_df['label'].value_counts()"
      ],
      "execution_count": 0,
      "outputs": [
        {
          "output_type": "execute_result",
          "data": {
            "text/plain": [
              "0    13336\n",
              "1     5394\n",
              "2     2942\n",
              "Name: label, dtype: int64"
            ]
          },
          "metadata": {
            "tags": []
          },
          "execution_count": 24
        }
      ]
    },
    {
      "cell_type": "code",
      "metadata": {
        "id": "Jw6anxyTicNm",
        "colab_type": "code",
        "outputId": "64ff806d-df69-40e0-f227-6e6014b1d0ed",
        "colab": {
          "base_uri": "https://localhost:8080/",
          "height": 1000
        }
      },
      "source": [
        "scalxlabel=normalized_df.copy()\n",
        "trans={2:'High',0:'Low',1:'Medium'}\n",
        "datay=[trans[item] for item in scalxlabel.label]\n",
        "scalxlabel['labell']=datay\n",
        "scalxlabel=scalxlabel[[ 'ESM', 'MD', 'NDSI', 'MID', 'WE', 'SC',\n",
        "       'SB','labell']]\n",
        "\n",
        "fig=scalxlabel.boxplot(figsize = (15,20),by='labell',fontsize='large')"
      ],
      "execution_count": 0,
      "outputs": [
        {
          "output_type": "display_data",
          "data": {
            "image/png": "[encoded data removed]",
            "text/plain": [
              "<Figure size 1080x1440 with 9 Axes>"
            ]
          },
          "metadata": {
            "tags": []
          }
        }
      ]
    },
    {
      "cell_type": "code",
      "metadata": {
        "id": "0cVem5PHpQTb",
        "colab_type": "code",
        "outputId": "4ff8b33f-c3c2-437b-c680-ba9f0e858c3d",
        "colab": {
          "base_uri": "https://localhost:8080/",
          "height": 1000
        }
      },
      "source": [
        "scalxlabel=normalized_df.copy()\n",
        "trans={2:'alta',0:'baja',1:'media'}\n",
        "datay=[trans[item] for item in scalxlabel.label]\n",
        "scalxlabel['labell']=datay\n",
        "scalxlabel=scalxlabel[[ 'ESM', 'MD', 'NDSI', 'MID', 'WE', 'SC',\n",
        "       'SB','hora']]\n",
        "\n",
        "fig=scalxlabel.boxplot(figsize = (15,20),by='hora',fontsize='large')"
      ],
      "execution_count": 0,
      "outputs": [
        {
          "output_type": "display_data",
          "data": {
            "image/png": "[encoded data removed]",
            "text/plain": [
              "<Figure size 1080x1440 with 9 Axes>"
            ]
          },
          "metadata": {
            "tags": []
          }
        }
      ]
    },
    {
      "cell_type": "code",
      "metadata": {
        "id": "mEBznuWQjWtd",
        "colab_type": "code",
        "outputId": "acea054d-0057-43a3-f967-a5c06f4101d4",
        "colab": {
          "base_uri": "https://localhost:8080/",
          "height": 611
        }
      },
      "source": [
        "\n",
        "sns.set(rc={'figure.figsize':(10,10)})\n",
        "ax = sns.boxplot(x=\"label\", y=\"WE\", hue=\"label\", data=normalized_df, palette=\"Set3\")"
      ],
      "execution_count": 0,
      "outputs": [
        {
          "output_type": "display_data",
          "data": {
            "image/png": "[encoded data removed]",
            "text/plain": [
              "<Figure size 720x720 with 1 Axes>"
            ]
          },
          "metadata": {
            "tags": []
          }
        }
      ]
    },
    {
      "cell_type": "code",
      "metadata": {
        "id": "4-8JyIAShpFL",
        "colab_type": "code",
        "colab": {}
      },
      "source": [
        "X=normalized_df.iloc[:,1:21]\n",
        "y=normalized_df.label"
      ],
      "execution_count": 0,
      "outputs": []
    },
    {
      "cell_type": "code",
      "metadata": {
        "colab_type": "code",
        "outputId": "6be55e33-1da4-4392-c8dc-fcc33457349c",
        "id": "s0fR0flGhpZ2",
        "colab": {
          "base_uri": "https://localhost:8080/",
          "height": 592
        }
      },
      "source": [
        "from string import ascii_letters\n",
        "import numpy as np\n",
        "import pandas as pd\n",
        "import seaborn as sns\n",
        "import matplotlib.pyplot as plt\n",
        "\n",
        "sns.set(style=\"white\")\n",
        "\n",
        "# Generate a large random dataset\n",
        "\n",
        "# Compute the correlation matrix\n",
        "corr = normalized_df.iloc[:,1:21].corr()\n",
        "\n",
        "# Generate a mask for the upper triangle\n",
        "mask = np.zeros_like(corr, dtype=np.bool)\n",
        "mask[np.triu_indices_from(mask)] = True\n",
        "\n",
        "# Set up the matplotlib figure\n",
        "f, ax = plt.subplots(figsize=(11, 9))\n",
        "\n",
        "# Generate a custom diverging colormap\n",
        "cmap = sns.diverging_palette(220, 10, as_cmap=True)\n",
        "\n",
        "# Draw the heatmap with the mask and correct aspect ratio\n",
        "sns.heatmap(corr, mask=mask, cmap=cmap, vmax=.3, center=0,\n",
        "            square=True, linewidths=.5, cbar_kws={\"shrink\": .5})"
      ],
      "execution_count": 0,
      "outputs": [
        {
          "output_type": "execute_result",
          "data": {
            "text/plain": [
              "<matplotlib.axes._subplots.AxesSubplot at 0x7f542332e048>"
            ]
          },
          "metadata": {
            "tags": []
          },
          "execution_count": 114
        },
        {
          "output_type": "display_data",
          "data": {
            "image/png": "[encoded data removed]",
            "text/plain": [
              "<Figure size 792x648 with 2 Axes>"
            ]
          },
          "metadata": {
            "tags": []
          }
        }
      ]
    },
    {
      "cell_type": "code",
      "metadata": {
        "id": "2aIkWCzOPeKV",
        "colab_type": "code",
        "outputId": "7a05623a-81b7-432b-9d20-64aa941e3657",
        "colab": {
          "base_uri": "https://localhost:8080/",
          "height": 632
        }
      },
      "source": [
        "X=normalized_df.iloc[:,1:21]\n",
        "y=normalized_df.label\n",
        "md=sklearn.feature_selection.mutual_info_classif(X,y)\n",
        "plt.bar(X.columns,md)"
      ],
      "execution_count": 0,
      "outputs": [
        {
          "output_type": "execute_result",
          "data": {
            "text/plain": [
              "<BarContainer object of 20 artists>"
            ]
          },
          "metadata": {
            "tags": []
          },
          "execution_count": 115
        },
        {
          "output_type": "display_data",
          "data": {
            "image/png": "[encoded data removed]",
            "text/plain": [
              "<Figure size 1080x720 with 1 Axes>"
            ]
          },
          "metadata": {
            "tags": []
          }
        }
      ]
    },
    {
      "cell_type": "code",
      "metadata": {
        "id": "fF6j3FwEi7vf",
        "colab_type": "code",
        "colab": {}
      },
      "source": [
        "dats= normalized_df.drop([\"name\",\t\"ACIf\",\"FM\", \"CF\", \"Tonnets\"], axis=1)\n",
        "dats\n",
        "datax= dats.iloc[:,:7]\n",
        "datay= dats.label"
      ],
      "execution_count": 0,
      "outputs": []
    },
    {
      "cell_type": "code",
      "metadata": {
        "id": "-meB74Vjic-C",
        "colab_type": "code",
        "colab": {}
      },
      "source": [
        "import pandas as pd\n",
        "from sklearn import datasets, linear_model\n",
        "from sklearn.model_selection import train_test_split\n",
        "#datax=normalized_df.iloc[:,1:21]\n",
        "#datay=normalized_df.label\n",
        "X_train, X_test, y_train, y_test = train_test_split(datax.iloc[:,:16], datay, test_size=0.2, stratify=datay)\n",
        "X_test, X_val, y_test,y_val = train_test_split(X_test, y_test, test_size=0.1, stratify=y_test)"
      ],
      "execution_count": 0,
      "outputs": []
    },
    {
      "cell_type": "code",
      "metadata": {
        "id": "ieBQGYkRidBi",
        "colab_type": "code",
        "colab": {}
      },
      "source": [
        "#split data per class for train\n",
        "X_train['trans']=y_train \n",
        "lim=7\n",
        "tr1=X_train.loc[X_train['trans'] == 0].iloc[:,0:lim]\n",
        "tr2=X_train.loc[X_train['trans'] == 1].iloc[:,0:lim]\n",
        "tr3=X_train.loc[X_train['trans'] == 2].iloc[:,0:lim] "
      ],
      "execution_count": 0,
      "outputs": []
    },
    {
      "cell_type": "code",
      "metadata": {
        "id": "z2po50huWpgn",
        "colab_type": "code",
        "outputId": "6956f428-a116-4a2b-b080-24d70c21d89a",
        "colab": {
          "base_uri": "https://localhost:8080/",
          "height": 107
        }
      },
      "source": [
        "      gmmtr1 = mixture.GaussianMixture(n_components=i, covariance_type='diag',max_iter=500)\n",
        "      gmmtr1.fit(tr1)\n",
        "      gmmtr2 = mixture.GaussianMixture(n_components=i, covariance_type='diag',max_iter=500)\n",
        "      gmmtr2.fit(tr2)\n",
        "      gmmtr3 = mixture.GaussianMixture(n_components=i, covariance_type='diag',max_iter=500)\n",
        "      gmmtr3.fit(tr3)"
      ],
      "execution_count": 0,
      "outputs": [
        {
          "output_type": "execute_result",
          "data": {
            "text/plain": [
              "GaussianMixture(covariance_type='diag', init_params='kmeans', max_iter=500,\n",
              "                means_init=None, n_components=433, n_init=1,\n",
              "                precisions_init=None, random_state=None, reg_covar=1e-06,\n",
              "                tol=0.001, verbose=0, verbose_interval=10, warm_start=False,\n",
              "                weights_init=None)"
            ]
          },
          "metadata": {
            "tags": []
          },
          "execution_count": 30
        }
      ]
    },
    {
      "cell_type": "code",
      "metadata": {
        "id": "MjLtVWE1idE0",
        "colab_type": "code",
        "outputId": "12b8ebb0-ee6b-4700-d9cd-e9b76c930b9c",
        "colab": {
          "base_uri": "https://localhost:8080/",
          "height": 899
        }
      },
      "source": [
        "from sklearn.metrics import accuracy_score\n",
        "from sklearn import mixture\n",
        "\n",
        "def choosebestclassmatchgmm(obj):\n",
        "    a= [gmmtr1.score(obj) ,gmmtr2.score(obj),gmmtr3.score(obj)]\n",
        "    classi=a.index(max(a))\n",
        "    return classi\n",
        "\n",
        "\n",
        "accuracies=[]\n",
        "for i in range(1,50):\n",
        "  \n",
        "      gmmtr1 = mixture.GaussianMixture(n_components=i, covariance_type='diag',max_iter=500)\n",
        "      gmmtr1.fit(tr1)\n",
        "      gmmtr2 = mixture.GaussianMixture(n_components=i, covariance_type='diag',max_iter=500)\n",
        "      gmmtr2.fit(tr2)\n",
        "      gmmtr3 = mixture.GaussianMixture(n_components=i, covariance_type='diag',max_iter=500)\n",
        "      gmmtr3.fit(tr3)\n",
        "\n",
        "      predict=[]\n",
        "      for i in range(len(X_test)):\n",
        "              predict.append(choosebestclassmatchgmm(X_test.iloc[i,:].values.reshape(1, -1)))\n",
        "      at=accuracy_score(predict,y_test)\n",
        "      print(at)\n",
        "      accuracies.append(at)"
      ],
      "execution_count": 0,
      "outputs": [
        {
          "output_type": "stream",
          "text": [
            "0.6039477057164829\n",
            "0.6800820302486542\n",
            "0.6818764419379646\n",
            "0.6767495513970777\n",
            "0.7718533709305306\n",
            "0.7698026147141759\n",
            "0.8541399641117662\n",
            "0.8464496283004358\n",
            "0.8584978210715202\n",
            "0.8766982824916688\n",
            "0.8815688285055114\n",
            "0.8682389130992053\n",
            "0.8600358882337862\n",
            "0.8736221481671367\n",
            "0.8733658036400923\n",
            "0.8702896693155601\n",
            "0.8595231991796976\n",
            "0.8797744168162009\n",
            "0.8846449628300436\n",
            "0.8754165598564471\n",
            "0.8907972314791079\n",
            "0.8838759292489106\n",
            "0.8877210971545757\n",
            "0.8905408869520636\n",
            "0.8928479876954627\n",
            "0.8972058446552166\n",
            "0.8959241220199948\n",
            "0.8979748782363497\n",
            "0.891566265060241\n",
            "0.9069469366829018\n",
            "0.8987439118174827\n",
            "0.9031017687772366\n",
            "0.8990002563445271\n",
            "0.9107921045885671\n",
            "0.9051525249935913\n",
            "0.9038708023583697\n",
            "0.903358113304281\n",
            "0.9043834914124583\n",
            "0.9095103819533453\n",
            "0.9097667264803897\n",
            "0.9064342476288131\n",
            "0.9089976928992566\n",
            "0.9051525249935913\n",
            "0.9054088695206357\n",
            "0.9077159702640348\n",
            "0.9172007177646757\n",
            "0.9125865162778775\n",
            "0.9130992053319662\n",
            "0.9169443732376313\n"
          ],
          "name": "stdout"
        }
      ]
    },
    {
      "cell_type": "code",
      "metadata": {
        "id": "xfLqQzKpjuc3",
        "colab_type": "code",
        "outputId": "8511da72-a7f5-4dc5-a398-455f94beeff3",
        "colab": {
          "base_uri": "https://localhost:8080/",
          "height": 649
        }
      },
      "source": [
        "import matplotlib.pyplot as plt\n",
        "plt.plot(accuracies)\n",
        "plt.xlabel(\"number of components\")\n",
        "plt.ylabel(\"Accuracy score\")"
      ],
      "execution_count": 0,
      "outputs": [
        {
          "output_type": "execute_result",
          "data": {
            "text/plain": [
              "Text(0, 0.5, 'Accuracy score')"
            ]
          },
          "metadata": {
            "tags": []
          },
          "execution_count": 124
        },
        {
          "output_type": "display_data",
          "data": {
            "image/png": "[encoded data removed]",
            "text/plain": [
              "<Figure size 1080x720 with 1 Axes>"
            ]
          },
          "metadata": {
            "tags": []
          }
        }
      ]
    },
    {
      "cell_type": "code",
      "metadata": {
        "id": "1dNoVuuzlAts",
        "colab_type": "code",
        "colab": {}
      },
      "source": [
        ""
      ],
      "execution_count": 0,
      "outputs": []
    },
    {
      "cell_type": "code",
      "metadata": {
        "colab_type": "code",
        "outputId": "0ee5cb87-5963-4215-f4a0-564a10dec11f",
        "id": "rosWQW7IlBBV",
        "colab": {
          "base_uri": "https://localhost:8080/",
          "height": 197
        }
      },
      "source": [
        "accuracys = []\n",
        "lim=7\n",
        "#X_ubm, X_test, y_ubm, y_test = train_test_split(datax, datay, test_size=0.5,random_state=0, stratify=datay)\n",
        "components_number=30\n",
        "for i in range(10):\n",
        "    X_ubm, X_test, y_ubm, y_test = train_test_split(datax, datay, test_size=0.5, stratify=datay)\n",
        "    X_gmm, X_val, y_gmm,y_val = train_test_split(X_test, y_test, test_size=0.4, stratify=y_test)\n",
        "    \n",
        "\n",
        "    X_train['trans']=y_train \n",
        "    lim=7\n",
        "    tr1=X_train.loc[X_train['trans'] == 0].iloc[:,0:lim]\n",
        "    tr2=X_train.loc[X_train['trans'] == 1].iloc[:,0:lim]\n",
        "    tr3=X_train.loc[X_train['trans'] == 2].iloc[:,0:lim] \n",
        "\n",
        "    gmmtr1 = mixture.GaussianMixture(n_components=components_number, covariance_type='diag',max_iter=500)\n",
        "    gmmtr1.fit(tr1)\n",
        "    gmmtr2 = mixture.GaussianMixture(n_components=components_number, covariance_type='diag',max_iter=500)\n",
        "    gmmtr2.fit(tr2)\n",
        "    gmmtr3 = mixture.GaussianMixture(n_components=components_number, covariance_type='diag',max_iter=500)\n",
        "    gmmtr3.fit(tr3)\n",
        "\n",
        "    predict=[]\n",
        "    for i in range(len(X_test)):\n",
        "            predict.append(choosebestclassmatchgmm(X_test.iloc[i,:].values.reshape(1, -1)))\n",
        "    at=accuracy_score(predict,y_test)\n",
        "    print(at)\n",
        "    accuracies.append(at)\n"
      ],
      "execution_count": 0,
      "outputs": [
        {
          "output_type": "stream",
          "text": [
            "0.9031930601698044\n",
            "0.9014396456256921\n",
            "0.9053156146179402\n",
            "0.8961794019933554\n",
            "0.9054078995939461\n",
            "0.9036544850498339\n",
            "0.8920265780730897\n",
            "0.9004245108896272\n",
            "0.9022702104097453\n",
            "0.8998708010335917\n"
          ],
          "name": "stdout"
        }
      ]
    },
    {
      "cell_type": "code",
      "metadata": {
        "colab_type": "code",
        "outputId": "23273678-8b30-493b-972c-8fc9b6d1bc7b",
        "id": "DT6gMMD4lBBe",
        "colab": {
          "base_uri": "https://localhost:8080/",
          "height": 35
        }
      },
      "source": [
        "predictval"
      ],
      "execution_count": 0,
      "outputs": [
        {
          "output_type": "execute_result",
          "data": {
            "text/plain": [
              "[0]"
            ]
          },
          "metadata": {
            "tags": []
          },
          "execution_count": 85
        }
      ]
    },
    {
      "cell_type": "code",
      "metadata": {
        "colab_type": "code",
        "outputId": "1d463d71-747c-4b95-963e-f46fb7cf184a",
        "id": "3oqp8ZXulBBh",
        "colab": {
          "base_uri": "https://localhost:8080/",
          "height": 35
        }
      },
      "source": [
        "predictval=[]\n",
        "for i in range(len(X_val)):\n",
        "    predictval.append(choosebestclassmatchgmm(X_val.iloc[i,:].values.reshape(1, -1)))\n",
        "at=accuracy_score(predictval,y_val)\n",
        "print(at)    "
      ],
      "execution_count": 0,
      "outputs": [
        {
          "output_type": "stream",
          "text": [
            "0.9354838709677419\n"
          ],
          "name": "stdout"
        }
      ]
    },
    {
      "cell_type": "code",
      "metadata": {
        "colab_type": "code",
        "outputId": "3a18ef7e-7376-4b09-e611-9450f86bd4a0",
        "id": "mcXRyyLflBBm",
        "colab": {
          "base_uri": "https://localhost:8080/",
          "height": 197
        }
      },
      "source": [
        "from sklearn.metrics import classification_report,roc_curve,roc_auc_score\n",
        "from sklearn.metrics import precision_score\n",
        "print(classification_report(y_val,predictval))"
      ],
      "execution_count": 0,
      "outputs": [
        {
          "output_type": "stream",
          "text": [
            "              precision    recall  f1-score   support\n",
            "\n",
            "           0       0.94      0.97      0.95       267\n",
            "           1       0.98      0.91      0.94       108\n",
            "           2       0.85      0.85      0.85        59\n",
            "\n",
            "    accuracy                           0.94       434\n",
            "   macro avg       0.92      0.91      0.91       434\n",
            "weighted avg       0.94      0.94      0.94       434\n",
            "\n"
          ],
          "name": "stdout"
        }
      ]
    },
    {
      "cell_type": "code",
      "metadata": {
        "colab_type": "code",
        "outputId": "657403d2-ed82-476a-df71-17ea8234c069",
        "id": "prQjASUAlBBp",
        "colab": {
          "base_uri": "https://localhost:8080/",
          "height": 441
        }
      },
      "source": [
        "def plot_confusion_matrix(y_true, y_pred, classes,size,\n",
        "                          normalize=False,\n",
        "                          title=None,\n",
        "                          cmap=plt.cm.Blues):\n",
        "    \"\"\"\n",
        "    This function prints and plots the confusion matrix.\n",
        "    Normalization can be applied by setting `normalize=True`.\n",
        "    \"\"\"\n",
        "    if not title:\n",
        "        if normalize:\n",
        "            title = 'Normalized confusion matrix'\n",
        "        else:\n",
        "            title = 'Confusion matrix, without normalization'\n",
        "\n",
        "    # Compute confusion matrix\n",
        "    cm = confusion_matrix(y_true, y_pred)\n",
        "    # Only use the labels that appear in the data\n",
        "    classes = classes[unique_labels(y_true, y_pred)]\n",
        "    if normalize:\n",
        "        cm = cm.astype('float') / cm.sum(axis=1)[:, np.newaxis]\n",
        "        print(\"Normalized confusion matrix\")\n",
        "    else:\n",
        "        print('Confusion matrix, without normalization')\n",
        "\n",
        "    print(cm)\n",
        "\n",
        "    fig, ax = plt.subplots(figsize=(size,size))\n",
        "    im = ax.imshow(cm, interpolation='nearest', cmap=cmap)\n",
        "    ax.figure.colorbar(im, ax=ax)\n",
        "    # We want to show all ticks...\n",
        "    ax.set(xticks=np.arange(cm.shape[1]),\n",
        "           yticks=np.arange(cm.shape[0]),\n",
        "           # ... and label them with the respective list entries\n",
        "           xticklabels=classes, yticklabels=classes,\n",
        "           title=title,\n",
        "           ylabel='True label',\n",
        "           xlabel='Predicted label')\n",
        "\n",
        "    # Rotate the tick labels and set their alignment.\n",
        "    plt.setp(ax.get_xticklabels(), rotation=45, ha=\"right\",\n",
        "             rotation_mode=\"anchor\")\n",
        "\n",
        "    # Loop over data dimensions and create text annotations.\n",
        "    fmt = '.2f' if normalize else 'd'\n",
        "    thresh = cm.max() / 2.\n",
        "    for i in range(cm.shape[0]):\n",
        "        for j in range(cm.shape[1]):\n",
        "            ax.text(j, i, format(cm[i, j], fmt),\n",
        "                    ha=\"center\", va=\"center\",\n",
        "                    color=\"white\" if cm[i, j] > thresh else \"black\")\n",
        "    fig.tight_layout()\n",
        "    return ax\n",
        "  #{'Alta':2,'Baja':0,'Media':1}\n",
        "import numpy as np\n",
        "from sklearn.metrics import confusion_matrix\n",
        "from sklearn.utils.multiclass import unique_labels\n",
        "a=np.array([0,1,2])\n",
        "a=np.array(['Low','Medium','High'])\n",
        "plot_confusion_matrix(y_val,predictval,a,size=5)"
      ],
      "execution_count": 0,
      "outputs": [
        {
          "output_type": "stream",
          "text": [
            "Confusion matrix, without normalization\n",
            "[[258   2   7]\n",
            " [  8  98   2]\n",
            " [  9   0  50]]\n"
          ],
          "name": "stdout"
        },
        {
          "output_type": "execute_result",
          "data": {
            "text/plain": [
              "<matplotlib.axes._subplots.AxesSubplot at 0x7fcdaddb6940>"
            ]
          },
          "metadata": {
            "tags": []
          },
          "execution_count": 33
        },
        {
          "output_type": "display_data",
          "data": {
            "image/png": "[encoded data removed]",
            "text/plain": [
              "<Figure size 360x360 with 2 Axes>"
            ]
          },
          "metadata": {
            "tags": []
          }
        }
      ]
    },
    {
      "cell_type": "markdown",
      "metadata": {
        "id": "-c_Ro1bjlRSZ",
        "colab_type": "text"
      },
      "source": [
        "Others\n"
      ]
    },
    {
      "cell_type": "code",
      "metadata": {
        "id": "2TD38ml2n17h",
        "colab_type": "code",
        "colab": {}
      },
      "source": [
        "dats= normalized_df.drop([\"name\",\t\"ACIf\",\"FM\", \"CF\", \"Tonnets\"], axis=1)\n",
        "dats\n",
        "datax= dats.iloc[:,:7]\n",
        "datay= dats.label"
      ],
      "execution_count": 0,
      "outputs": []
    },
    {
      "cell_type": "code",
      "metadata": {
        "id": "Ucj9s4856dKu",
        "colab_type": "code",
        "colab": {}
      },
      "source": [
        "import pandas as pd\n",
        "import numpy as np\n",
        "\n",
        "from sklearn.model_selection import GridSearchCV\n",
        "\n",
        "class EstimatorSelectionHelper:\n",
        "\n",
        "    def __init__(self, models, params):\n",
        "        if not set(models.keys()).issubset(set(params.keys())):\n",
        "            missing_params = list(set(models.keys()) - set(params.keys()))\n",
        "            raise ValueError(\"Some estimators are missing parameters: %s\" % missing_params)\n",
        "        self.models = models\n",
        "        self.params = params\n",
        "        self.keys = models.keys()\n",
        "        self.grid_searches = {}\n",
        "\n",
        "    def fit(self, X, y, cv=3, n_jobs=3, verbose=1, scoring=None, refit=False):\n",
        "        for key in self.keys:\n",
        "            print(\"Running GridSearchCV for %s.\" % key)\n",
        "            model = self.models[key]\n",
        "            params = self.params[key]\n",
        "            gs = GridSearchCV(model, params, cv=cv, n_jobs=n_jobs,\n",
        "                              verbose=verbose, scoring=scoring, refit=refit,\n",
        "                              return_train_score=True)\n",
        "            gs.fit(X,y)\n",
        "            self.grid_searches[key] = gs    \n",
        "\n",
        "    def score_summary(self, sort_by='mean_score'):\n",
        "        def row(key, scores, params):\n",
        "            d = {\n",
        "                 'estimator': key,\n",
        "                 'min_score': min(scores),\n",
        "                 'max_score': max(scores),\n",
        "                 'mean_score': np.mean(scores),\n",
        "                 'std_score': np.std(scores),\n",
        "            }\n",
        "            return pd.Series({**params,**d})\n",
        "\n",
        "        rows = []\n",
        "        for k in self.grid_searches:\n",
        "            print(k)\n",
        "            params = self.grid_searches[k].cv_results_['params']\n",
        "            scores = []\n",
        "            for i in range(self.grid_searches[k].cv):\n",
        "                key = \"split{}_test_score\".format(i)\n",
        "                r = self.grid_searches[k].cv_results_[key]        \n",
        "                scores.append(r.reshape(len(params),1))\n",
        "\n",
        "            all_scores = np.hstack(scores)\n",
        "            for p, s in zip(params,all_scores):\n",
        "                rows.append((row(k, s, p)))\n",
        "\n",
        "        df = pd.concat(rows, axis=1).T.sort_values([sort_by], ascending=False)\n",
        "\n",
        "        columns = ['estimator', 'min_score', 'mean_score', 'max_score', 'std_score']\n",
        "        columns = columns + [c for c in df.columns if c not in columns]\n",
        "\n",
        "        return df[columns]"
      ],
      "execution_count": 0,
      "outputs": []
    },
    {
      "cell_type": "code",
      "metadata": {
        "id": "jsRjUFa26dGt",
        "colab_type": "code",
        "outputId": "a1b66738-5272-4f35-ba7b-553f8873cae3",
        "colab": {
          "base_uri": "https://localhost:8080/",
          "height": 1000
        }
      },
      "source": [
        "\n",
        "X =datax\n",
        "y =datay\n",
        "\n",
        "from sklearn.ensemble import ExtraTreesClassifier\n",
        "from sklearn.ensemble import RandomForestClassifier\n",
        "from sklearn.ensemble import AdaBoostClassifier\n",
        "from sklearn.ensemble import GradientBoostingClassifier\n",
        "from sklearn.svm import SVC\n",
        "\n",
        "models1 = {\n",
        "    'ExtraTreesClassifier': ExtraTreesClassifier(),\n",
        "    'RandomForestClassifier': RandomForestClassifier(),\n",
        "    'AdaBoostClassifier': AdaBoostClassifier(),\n",
        "    'GradientBoostingClassifier': GradientBoostingClassifier(),\n",
        "    'SVC': SVC()\n",
        "}\n",
        "\n",
        "params1 = {\n",
        "    'ExtraTreesClassifier': { 'n_estimators': [16, 32] },\n",
        "    'RandomForestClassifier': { 'n_estimators': [16, 32] },\n",
        "    'AdaBoostClassifier':  { 'n_estimators': [16, 32] },\n",
        "    'GradientBoostingClassifier': { 'n_estimators': [16, 32], 'learning_rate': [0.8, 1.0] },\n",
        "    'SVC': [\n",
        "        {'kernel': ['linear'], 'C': [1, 10]},\n",
        "        {'kernel': ['rbf'], 'C': [1, 10], 'gamma': [0.001, 0.0001]},\n",
        "    ]\n",
        "}\n",
        "helper1 = EstimatorSelectionHelper(models1, params1)\n",
        "helper1.fit(X, y, scoring='accuracy', n_jobs=2)\n",
        "helper1.score_summary()"
      ],
      "execution_count": 0,
      "outputs": [
        {
          "output_type": "stream",
          "text": [
            "Running GridSearchCV for ExtraTreesClassifier.\n",
            "Fitting 3 folds for each of 2 candidates, totalling 6 fits\n"
          ],
          "name": "stdout"
        },
        {
          "output_type": "stream",
          "text": [
            "[Parallel(n_jobs=2)]: Using backend LokyBackend with 2 concurrent workers.\n",
            "[Parallel(n_jobs=2)]: Done   6 out of   6 | elapsed:    1.3s finished\n",
            "[Parallel(n_jobs=2)]: Using backend LokyBackend with 2 concurrent workers.\n"
          ],
          "name": "stderr"
        },
        {
          "output_type": "stream",
          "text": [
            "Running GridSearchCV for RandomForestClassifier.\n",
            "Fitting 3 folds for each of 2 candidates, totalling 6 fits\n"
          ],
          "name": "stdout"
        },
        {
          "output_type": "stream",
          "text": [
            "[Parallel(n_jobs=2)]: Done   6 out of   6 | elapsed:    3.0s finished\n",
            "[Parallel(n_jobs=2)]: Using backend LokyBackend with 2 concurrent workers.\n"
          ],
          "name": "stderr"
        },
        {
          "output_type": "stream",
          "text": [
            "Running GridSearchCV for AdaBoostClassifier.\n",
            "Fitting 3 folds for each of 2 candidates, totalling 6 fits\n"
          ],
          "name": "stdout"
        },
        {
          "output_type": "stream",
          "text": [
            "[Parallel(n_jobs=2)]: Done   6 out of   6 | elapsed:    2.6s finished\n",
            "[Parallel(n_jobs=2)]: Using backend LokyBackend with 2 concurrent workers.\n"
          ],
          "name": "stderr"
        },
        {
          "output_type": "stream",
          "text": [
            "Running GridSearchCV for GradientBoostingClassifier.\n",
            "Fitting 3 folds for each of 4 candidates, totalling 12 fits\n"
          ],
          "name": "stdout"
        },
        {
          "output_type": "stream",
          "text": [
            "[Parallel(n_jobs=2)]: Done  12 out of  12 | elapsed:   26.5s finished\n",
            "[Parallel(n_jobs=2)]: Using backend LokyBackend with 2 concurrent workers.\n"
          ],
          "name": "stderr"
        },
        {
          "output_type": "stream",
          "text": [
            "Running GridSearchCV for SVC.\n",
            "Fitting 3 folds for each of 6 candidates, totalling 18 fits\n",
            "ExtraTreesClassifier\n",
            "RandomForestClassifier\n",
            "AdaBoostClassifier\n",
            "GradientBoostingClassifier\n",
            "SVC\n"
          ],
          "name": "stdout"
        },
        {
          "output_type": "stream",
          "text": [
            "[Parallel(n_jobs=2)]: Done  18 out of  18 | elapsed:  2.7min finished\n",
            "/usr/local/lib/python3.6/dist-packages/ipykernel_launcher.py:53: FutureWarning: Sorting because non-concatenation axis is not aligned. A future version\n",
            "of pandas will change to not sort by default.\n",
            "\n",
            "To accept the future behavior, pass 'sort=False'.\n",
            "\n",
            "To retain the current behavior and silence the warning, pass 'sort=True'.\n",
            "\n"
          ],
          "name": "stderr"
        },
        {
          "output_type": "execute_result",
          "data": {
            "text/html": [
              "<div>\n",
              "<style scoped>\n",
              "    .dataframe tbody tr th:only-of-type {\n",
              "        vertical-align: middle;\n",
              "    }\n",
              "\n",
              "    .dataframe tbody tr th {\n",
              "        vertical-align: top;\n",
              "    }\n",
              "\n",
              "    .dataframe thead th {\n",
              "        text-align: right;\n",
              "    }\n",
              "</style>\n",
              "<table border=\"1\" class=\"dataframe\">\n",
              "  <thead>\n",
              "    <tr style=\"text-align: right;\">\n",
              "      <th></th>\n",
              "      <th>estimator</th>\n",
              "      <th>min_score</th>\n",
              "      <th>mean_score</th>\n",
              "      <th>max_score</th>\n",
              "      <th>std_score</th>\n",
              "      <th>C</th>\n",
              "      <th>gamma</th>\n",
              "      <th>kernel</th>\n",
              "      <th>learning_rate</th>\n",
              "      <th>n_estimators</th>\n",
              "    </tr>\n",
              "  </thead>\n",
              "  <tbody>\n",
              "    <tr>\n",
              "      <th>3</th>\n",
              "      <td>RandomForestClassifier</td>\n",
              "      <td>0.734635</td>\n",
              "      <td>0.797388</td>\n",
              "      <td>0.922757</td>\n",
              "      <td>0.0886494</td>\n",
              "      <td>NaN</td>\n",
              "      <td>NaN</td>\n",
              "      <td>NaN</td>\n",
              "      <td>NaN</td>\n",
              "      <td>32</td>\n",
              "    </tr>\n",
              "    <tr>\n",
              "      <th>2</th>\n",
              "      <td>RandomForestClassifier</td>\n",
              "      <td>0.730066</td>\n",
              "      <td>0.795866</td>\n",
              "      <td>0.918328</td>\n",
              "      <td>0.0866741</td>\n",
              "      <td>NaN</td>\n",
              "      <td>NaN</td>\n",
              "      <td>NaN</td>\n",
              "      <td>NaN</td>\n",
              "      <td>16</td>\n",
              "    </tr>\n",
              "    <tr>\n",
              "      <th>1</th>\n",
              "      <td>ExtraTreesClassifier</td>\n",
              "      <td>0.71747</td>\n",
              "      <td>0.794804</td>\n",
              "      <td>0.925803</td>\n",
              "      <td>0.0931327</td>\n",
              "      <td>NaN</td>\n",
              "      <td>NaN</td>\n",
              "      <td>NaN</td>\n",
              "      <td>NaN</td>\n",
              "      <td>32</td>\n",
              "    </tr>\n",
              "    <tr>\n",
              "      <th>0</th>\n",
              "      <td>ExtraTreesClassifier</td>\n",
              "      <td>0.711379</td>\n",
              "      <td>0.786776</td>\n",
              "      <td>0.93314</td>\n",
              "      <td>0.103511</td>\n",
              "      <td>NaN</td>\n",
              "      <td>NaN</td>\n",
              "      <td>NaN</td>\n",
              "      <td>NaN</td>\n",
              "      <td>16</td>\n",
              "    </tr>\n",
              "    <tr>\n",
              "      <th>7</th>\n",
              "      <td>GradientBoostingClassifier</td>\n",
              "      <td>0.676218</td>\n",
              "      <td>0.752492</td>\n",
              "      <td>0.816445</td>\n",
              "      <td>0.0579065</td>\n",
              "      <td>NaN</td>\n",
              "      <td>NaN</td>\n",
              "      <td>NaN</td>\n",
              "      <td>0.8</td>\n",
              "      <td>32</td>\n",
              "    </tr>\n",
              "    <tr>\n",
              "      <th>9</th>\n",
              "      <td>GradientBoostingClassifier</td>\n",
              "      <td>0.640504</td>\n",
              "      <td>0.746078</td>\n",
              "      <td>0.856728</td>\n",
              "      <td>0.0883459</td>\n",
              "      <td>NaN</td>\n",
              "      <td>NaN</td>\n",
              "      <td>NaN</td>\n",
              "      <td>1</td>\n",
              "      <td>32</td>\n",
              "    </tr>\n",
              "    <tr>\n",
              "      <th>6</th>\n",
              "      <td>GradientBoostingClassifier</td>\n",
              "      <td>0.67608</td>\n",
              "      <td>0.738141</td>\n",
              "      <td>0.780592</td>\n",
              "      <td>0.0448639</td>\n",
              "      <td>NaN</td>\n",
              "      <td>NaN</td>\n",
              "      <td>NaN</td>\n",
              "      <td>0.8</td>\n",
              "      <td>16</td>\n",
              "    </tr>\n",
              "    <tr>\n",
              "      <th>8</th>\n",
              "      <td>GradientBoostingClassifier</td>\n",
              "      <td>0.647564</td>\n",
              "      <td>0.731497</td>\n",
              "      <td>0.818522</td>\n",
              "      <td>0.0698275</td>\n",
              "      <td>NaN</td>\n",
              "      <td>NaN</td>\n",
              "      <td>NaN</td>\n",
              "      <td>1</td>\n",
              "      <td>16</td>\n",
              "    </tr>\n",
              "    <tr>\n",
              "      <th>12</th>\n",
              "      <td>SVC</td>\n",
              "      <td>0.61531</td>\n",
              "      <td>0.615356</td>\n",
              "      <td>0.615449</td>\n",
              "      <td>6.52553e-05</td>\n",
              "      <td>1</td>\n",
              "      <td>0.001</td>\n",
              "      <td>rbf</td>\n",
              "      <td>NaN</td>\n",
              "      <td>NaN</td>\n",
              "    </tr>\n",
              "    <tr>\n",
              "      <th>13</th>\n",
              "      <td>SVC</td>\n",
              "      <td>0.61531</td>\n",
              "      <td>0.615356</td>\n",
              "      <td>0.615449</td>\n",
              "      <td>6.52553e-05</td>\n",
              "      <td>1</td>\n",
              "      <td>0.0001</td>\n",
              "      <td>rbf</td>\n",
              "      <td>NaN</td>\n",
              "      <td>NaN</td>\n",
              "    </tr>\n",
              "    <tr>\n",
              "      <th>15</th>\n",
              "      <td>SVC</td>\n",
              "      <td>0.61531</td>\n",
              "      <td>0.615356</td>\n",
              "      <td>0.615449</td>\n",
              "      <td>6.52553e-05</td>\n",
              "      <td>10</td>\n",
              "      <td>0.0001</td>\n",
              "      <td>rbf</td>\n",
              "      <td>NaN</td>\n",
              "      <td>NaN</td>\n",
              "    </tr>\n",
              "    <tr>\n",
              "      <th>4</th>\n",
              "      <td>AdaBoostClassifier</td>\n",
              "      <td>0.359773</td>\n",
              "      <td>0.555694</td>\n",
              "      <td>0.733527</td>\n",
              "      <td>0.15312</td>\n",
              "      <td>NaN</td>\n",
              "      <td>NaN</td>\n",
              "      <td>NaN</td>\n",
              "      <td>NaN</td>\n",
              "      <td>16</td>\n",
              "    </tr>\n",
              "    <tr>\n",
              "      <th>5</th>\n",
              "      <td>AdaBoostClassifier</td>\n",
              "      <td>0.26938</td>\n",
              "      <td>0.52021</td>\n",
              "      <td>0.698643</td>\n",
              "      <td>0.18257</td>\n",
              "      <td>NaN</td>\n",
              "      <td>NaN</td>\n",
              "      <td>NaN</td>\n",
              "      <td>NaN</td>\n",
              "      <td>32</td>\n",
              "    </tr>\n",
              "    <tr>\n",
              "      <th>14</th>\n",
              "      <td>SVC</td>\n",
              "      <td>0.318798</td>\n",
              "      <td>0.495432</td>\n",
              "      <td>0.61448</td>\n",
              "      <td>0.127394</td>\n",
              "      <td>10</td>\n",
              "      <td>0.001</td>\n",
              "      <td>rbf</td>\n",
              "      <td>NaN</td>\n",
              "      <td>NaN</td>\n",
              "    </tr>\n",
              "    <tr>\n",
              "      <th>10</th>\n",
              "      <td>SVC</td>\n",
              "      <td>0.329457</td>\n",
              "      <td>0.442183</td>\n",
              "      <td>0.566999</td>\n",
              "      <td>0.097352</td>\n",
              "      <td>1</td>\n",
              "      <td>NaN</td>\n",
              "      <td>linear</td>\n",
              "      <td>NaN</td>\n",
              "      <td>NaN</td>\n",
              "    </tr>\n",
              "    <tr>\n",
              "      <th>11</th>\n",
              "      <td>SVC</td>\n",
              "      <td>0.328212</td>\n",
              "      <td>0.440476</td>\n",
              "      <td>0.5634</td>\n",
              "      <td>0.0963106</td>\n",
              "      <td>10</td>\n",
              "      <td>NaN</td>\n",
              "      <td>linear</td>\n",
              "      <td>NaN</td>\n",
              "      <td>NaN</td>\n",
              "    </tr>\n",
              "  </tbody>\n",
              "</table>\n",
              "</div>"
            ],
            "text/plain": [
              "                     estimator min_score  ... learning_rate n_estimators\n",
              "3       RandomForestClassifier  0.734635  ...           NaN           32\n",
              "2       RandomForestClassifier  0.730066  ...           NaN           16\n",
              "1         ExtraTreesClassifier   0.71747  ...           NaN           32\n",
              "0         ExtraTreesClassifier  0.711379  ...           NaN           16\n",
              "7   GradientBoostingClassifier  0.676218  ...           0.8           32\n",
              "9   GradientBoostingClassifier  0.640504  ...             1           32\n",
              "6   GradientBoostingClassifier   0.67608  ...           0.8           16\n",
              "8   GradientBoostingClassifier  0.647564  ...             1           16\n",
              "12                         SVC   0.61531  ...           NaN          NaN\n",
              "13                         SVC   0.61531  ...           NaN          NaN\n",
              "15                         SVC   0.61531  ...           NaN          NaN\n",
              "4           AdaBoostClassifier  0.359773  ...           NaN           16\n",
              "5           AdaBoostClassifier   0.26938  ...           NaN           32\n",
              "14                         SVC  0.318798  ...           NaN          NaN\n",
              "10                         SVC  0.329457  ...           NaN          NaN\n",
              "11                         SVC  0.328212  ...           NaN          NaN\n",
              "\n",
              "[16 rows x 10 columns]"
            ]
          },
          "metadata": {
            "tags": []
          },
          "execution_count": 155
        }
      ]
    },
    {
      "cell_type": "markdown",
      "metadata": {
        "id": "HyAARn_z5JhY",
        "colab_type": "text"
      },
      "source": [
        "Aparently RF works, but in the next cell we show overfiting "
      ]
    },
    {
      "cell_type": "code",
      "metadata": {
        "id": "lLgpFG8gliYf",
        "colab_type": "code",
        "outputId": "990ef6d1-b937-4748-aa87-cd73e7b82d40",
        "colab": {
          "base_uri": "https://localhost:8080/",
          "height": 35
        }
      },
      "source": [
        "from sklearn.ensemble import RandomForestClassifier\n",
        "\n",
        "X_train, X_test, y_train, y_test = train_test_split(datax.iloc[:,:16], datay, test_size=0.2, stratify=datay)\n",
        "X_test, X_val, y_test,y_val = train_test_split(X_test, y_test, test_size=0.1, stratify=y_test)\n",
        "\n",
        "clf = RandomForestClassifier(n_estimators=32,max_depth=2, random_state=0)\n",
        "clf.fit(X_train,y_train)\n",
        "predict=clf.predict(X_test)\n",
        "accuracy_score(y_test,predict)"
      ],
      "execution_count": 0,
      "outputs": [
        {
          "output_type": "execute_result",
          "data": {
            "text/plain": [
              "0.6549602665983081"
            ]
          },
          "metadata": {
            "tags": []
          },
          "execution_count": 158
        }
      ]
    },
    {
      "cell_type": "markdown",
      "metadata": {
        "id": "H8Mfl_kIJqYz",
        "colab_type": "text"
      },
      "source": [
        "# GMM-UBM \n",
        "\n"
      ]
    },
    {
      "cell_type": "code",
      "metadata": {
        "id": "-Y9TaKMRLCks",
        "colab_type": "code",
        "outputId": "463d2258-5bd4-48d6-8f30-d55f0f908fc5",
        "colab": {
          "base_uri": "https://localhost:8080/",
          "height": 490
        }
      },
      "source": [
        "\n",
        "\n",
        "import numpy as np\n",
        "from sklearn import mixture\n",
        "import gmm_adapt as MAP\n",
        "import matplotlib.pyplot as plt\n",
        "from sklearn.metrics import accuracy_score\n",
        "\n",
        "\n",
        "datos= pd.read_csv('3etapas.csv')\n",
        "datos= datos.drop([\"name\",\t\"ACIf\",\"FM\", \"CF\", \"Tonnets\"], axis=1)\n",
        "#datos.rename(columns={'Unnamed: 0.1.1' :'name'}, inplace=True)\n",
        "datos"
      ],
      "execution_count": 0,
      "outputs": [
        {
          "output_type": "stream",
          "text": [
            "/content/drive/My Drive/bioacustica/Resultadosfebrero\n"
          ],
          "name": "stdout"
        },
        {
          "output_type": "stream",
          "text": [
            "/usr/local/lib/python3.6/dist-packages/IPython/core/interactiveshell.py:2718: DtypeWarning: Columns (22) have mixed types. Specify dtype option on import or set low_memory=False.\n",
            "  interactivity=interactivity, compiler=compiler, result=result)\n"
          ],
          "name": "stderr"
        },
        {
          "output_type": "execute_result",
          "data": {
            "text/html": [
              "<div>\n",
              "<style scoped>\n",
              "    .dataframe tbody tr th:only-of-type {\n",
              "        vertical-align: middle;\n",
              "    }\n",
              "\n",
              "    .dataframe tbody tr th {\n",
              "        vertical-align: top;\n",
              "    }\n",
              "\n",
              "    .dataframe thead th {\n",
              "        text-align: right;\n",
              "    }\n",
              "</style>\n",
              "<table border=\"1\" class=\"dataframe\">\n",
              "  <thead>\n",
              "    <tr style=\"text-align: right;\">\n",
              "      <th></th>\n",
              "      <th>ESM</th>\n",
              "      <th>MD</th>\n",
              "      <th>NDSI</th>\n",
              "      <th>MID</th>\n",
              "      <th>WE</th>\n",
              "      <th>SC</th>\n",
              "      <th>SB</th>\n",
              "      <th>ADIm1</th>\n",
              "      <th>ADIm2</th>\n",
              "      <th>ADIm3</th>\n",
              "      <th>ADIm4</th>\n",
              "      <th>ADIm5</th>\n",
              "      <th>ADIm6</th>\n",
              "      <th>ADIm7</th>\n",
              "      <th>ADIm8</th>\n",
              "      <th>ADIm9</th>\n",
              "      <th>label</th>\n",
              "      <th>hora</th>\n",
              "      <th>etapa</th>\n",
              "    </tr>\n",
              "  </thead>\n",
              "  <tbody>\n",
              "    <tr>\n",
              "      <th>0</th>\n",
              "      <td>0.867282</td>\n",
              "      <td>0.467304</td>\n",
              "      <td>0.966325</td>\n",
              "      <td>0.018405</td>\n",
              "      <td>0.029465</td>\n",
              "      <td>0.377291</td>\n",
              "      <td>0.552523</td>\n",
              "      <td>0.920963</td>\n",
              "      <td>0.945029</td>\n",
              "      <td>0.867738</td>\n",
              "      <td>0.896951</td>\n",
              "      <td>0.810338</td>\n",
              "      <td>0.778639</td>\n",
              "      <td>0.536468</td>\n",
              "      <td>0.877493</td>\n",
              "      <td>0.912124</td>\n",
              "      <td>1</td>\n",
              "      <td>00</td>\n",
              "      <td>3.0</td>\n",
              "    </tr>\n",
              "    <tr>\n",
              "      <th>1</th>\n",
              "      <td>0.908406</td>\n",
              "      <td>0.453123</td>\n",
              "      <td>0.980696</td>\n",
              "      <td>0.003067</td>\n",
              "      <td>0.028795</td>\n",
              "      <td>0.386899</td>\n",
              "      <td>0.559192</td>\n",
              "      <td>0.875070</td>\n",
              "      <td>0.881452</td>\n",
              "      <td>0.807069</td>\n",
              "      <td>0.810283</td>\n",
              "      <td>0.804210</td>\n",
              "      <td>0.747379</td>\n",
              "      <td>0.537879</td>\n",
              "      <td>0.883287</td>\n",
              "      <td>0.894554</td>\n",
              "      <td>1</td>\n",
              "      <td>00</td>\n",
              "      <td>3.0</td>\n",
              "    </tr>\n",
              "    <tr>\n",
              "      <th>2</th>\n",
              "      <td>0.914618</td>\n",
              "      <td>0.458898</td>\n",
              "      <td>0.906203</td>\n",
              "      <td>0.125767</td>\n",
              "      <td>0.063776</td>\n",
              "      <td>0.360998</td>\n",
              "      <td>0.724380</td>\n",
              "      <td>0.927234</td>\n",
              "      <td>0.934141</td>\n",
              "      <td>0.849074</td>\n",
              "      <td>0.869873</td>\n",
              "      <td>0.734389</td>\n",
              "      <td>0.646573</td>\n",
              "      <td>0.598610</td>\n",
              "      <td>0.908381</td>\n",
              "      <td>0.942854</td>\n",
              "      <td>1</td>\n",
              "      <td>00</td>\n",
              "      <td>3.0</td>\n",
              "    </tr>\n",
              "    <tr>\n",
              "      <th>3</th>\n",
              "      <td>0.925893</td>\n",
              "      <td>0.439432</td>\n",
              "      <td>0.929386</td>\n",
              "      <td>0.119632</td>\n",
              "      <td>0.042596</td>\n",
              "      <td>0.356602</td>\n",
              "      <td>0.651678</td>\n",
              "      <td>0.905295</td>\n",
              "      <td>0.917064</td>\n",
              "      <td>0.849598</td>\n",
              "      <td>0.806129</td>\n",
              "      <td>0.790120</td>\n",
              "      <td>0.687616</td>\n",
              "      <td>0.603289</td>\n",
              "      <td>0.879746</td>\n",
              "      <td>0.877237</td>\n",
              "      <td>1</td>\n",
              "      <td>00</td>\n",
              "      <td>3.0</td>\n",
              "    </tr>\n",
              "    <tr>\n",
              "      <th>4</th>\n",
              "      <td>0.910974</td>\n",
              "      <td>0.442196</td>\n",
              "      <td>0.981205</td>\n",
              "      <td>0.039877</td>\n",
              "      <td>0.027250</td>\n",
              "      <td>0.379340</td>\n",
              "      <td>0.582113</td>\n",
              "      <td>0.902839</td>\n",
              "      <td>0.847248</td>\n",
              "      <td>0.852855</td>\n",
              "      <td>0.704368</td>\n",
              "      <td>0.811376</td>\n",
              "      <td>0.745813</td>\n",
              "      <td>0.658889</td>\n",
              "      <td>0.813718</td>\n",
              "      <td>0.951751</td>\n",
              "      <td>1</td>\n",
              "      <td>00</td>\n",
              "      <td>3.0</td>\n",
              "    </tr>\n",
              "    <tr>\n",
              "      <th>...</th>\n",
              "      <td>...</td>\n",
              "      <td>...</td>\n",
              "      <td>...</td>\n",
              "      <td>...</td>\n",
              "      <td>...</td>\n",
              "      <td>...</td>\n",
              "      <td>...</td>\n",
              "      <td>...</td>\n",
              "      <td>...</td>\n",
              "      <td>...</td>\n",
              "      <td>...</td>\n",
              "      <td>...</td>\n",
              "      <td>...</td>\n",
              "      <td>...</td>\n",
              "      <td>...</td>\n",
              "      <td>...</td>\n",
              "      <td>...</td>\n",
              "      <td>...</td>\n",
              "      <td>...</td>\n",
              "    </tr>\n",
              "    <tr>\n",
              "      <th>45581</th>\n",
              "      <td>0.850048</td>\n",
              "      <td>0.369156</td>\n",
              "      <td>0.584126</td>\n",
              "      <td>0.745399</td>\n",
              "      <td>0.077290</td>\n",
              "      <td>0.231847</td>\n",
              "      <td>0.543725</td>\n",
              "      <td>0.546510</td>\n",
              "      <td>0.246275</td>\n",
              "      <td>0.370992</td>\n",
              "      <td>0.663286</td>\n",
              "      <td>0.700649</td>\n",
              "      <td>0.830382</td>\n",
              "      <td>0.793665</td>\n",
              "      <td>0.875796</td>\n",
              "      <td>0.895937</td>\n",
              "      <td>1</td>\n",
              "      <td>23</td>\n",
              "      <td>3.0</td>\n",
              "    </tr>\n",
              "    <tr>\n",
              "      <th>45582</th>\n",
              "      <td>0.833907</td>\n",
              "      <td>0.338497</td>\n",
              "      <td>0.861142</td>\n",
              "      <td>0.233129</td>\n",
              "      <td>0.039242</td>\n",
              "      <td>0.215234</td>\n",
              "      <td>0.697241</td>\n",
              "      <td>0.884346</td>\n",
              "      <td>0.561873</td>\n",
              "      <td>0.389238</td>\n",
              "      <td>0.668778</td>\n",
              "      <td>0.575165</td>\n",
              "      <td>0.128117</td>\n",
              "      <td>0.258377</td>\n",
              "      <td>0.477471</td>\n",
              "      <td>0.677211</td>\n",
              "      <td>1</td>\n",
              "      <td>18</td>\n",
              "      <td>3.0</td>\n",
              "    </tr>\n",
              "    <tr>\n",
              "      <th>45583</th>\n",
              "      <td>0.803416</td>\n",
              "      <td>0.199186</td>\n",
              "      <td>0.787697</td>\n",
              "      <td>0.000000</td>\n",
              "      <td>0.229162</td>\n",
              "      <td>0.238528</td>\n",
              "      <td>0.706890</td>\n",
              "      <td>0.680332</td>\n",
              "      <td>0.773007</td>\n",
              "      <td>0.483451</td>\n",
              "      <td>0.528124</td>\n",
              "      <td>0.299106</td>\n",
              "      <td>0.032986</td>\n",
              "      <td>0.230472</td>\n",
              "      <td>0.245360</td>\n",
              "      <td>0.079700</td>\n",
              "      <td>1</td>\n",
              "      <td>13</td>\n",
              "      <td>2.0</td>\n",
              "    </tr>\n",
              "    <tr>\n",
              "      <th>45584</th>\n",
              "      <td>0.970575</td>\n",
              "      <td>0.392994</td>\n",
              "      <td>0.980522</td>\n",
              "      <td>0.061350</td>\n",
              "      <td>0.115595</td>\n",
              "      <td>0.256904</td>\n",
              "      <td>0.639992</td>\n",
              "      <td>0.946029</td>\n",
              "      <td>0.891831</td>\n",
              "      <td>0.806401</td>\n",
              "      <td>0.749585</td>\n",
              "      <td>0.637985</td>\n",
              "      <td>0.739558</td>\n",
              "      <td>0.723066</td>\n",
              "      <td>0.899706</td>\n",
              "      <td>0.858127</td>\n",
              "      <td>1</td>\n",
              "      <td>3</td>\n",
              "      <td>3.0</td>\n",
              "    </tr>\n",
              "    <tr>\n",
              "      <th>45585</th>\n",
              "      <td>0.983463</td>\n",
              "      <td>0.772074</td>\n",
              "      <td>0.722347</td>\n",
              "      <td>0.162577</td>\n",
              "      <td>0.999014</td>\n",
              "      <td>0.241603</td>\n",
              "      <td>0.737606</td>\n",
              "      <td>0.164765</td>\n",
              "      <td>0.009594</td>\n",
              "      <td>0.016976</td>\n",
              "      <td>0.019280</td>\n",
              "      <td>0.031243</td>\n",
              "      <td>0.031576</td>\n",
              "      <td>0.014632</td>\n",
              "      <td>0.131211</td>\n",
              "      <td>0.437588</td>\n",
              "      <td>1</td>\n",
              "      <td>16</td>\n",
              "      <td>2.0</td>\n",
              "    </tr>\n",
              "  </tbody>\n",
              "</table>\n",
              "<p>45586 rows × 19 columns</p>\n",
              "</div>"
            ],
            "text/plain": [
              "            ESM        MD      NDSI       MID  ...     ADIm9  label  hora  etapa\n",
              "0      0.867282  0.467304  0.966325  0.018405  ...  0.912124      1    00    3.0\n",
              "1      0.908406  0.453123  0.980696  0.003067  ...  0.894554      1    00    3.0\n",
              "2      0.914618  0.458898  0.906203  0.125767  ...  0.942854      1    00    3.0\n",
              "3      0.925893  0.439432  0.929386  0.119632  ...  0.877237      1    00    3.0\n",
              "4      0.910974  0.442196  0.981205  0.039877  ...  0.951751      1    00    3.0\n",
              "...         ...       ...       ...       ...  ...       ...    ...   ...    ...\n",
              "45581  0.850048  0.369156  0.584126  0.745399  ...  0.895937      1    23    3.0\n",
              "45582  0.833907  0.338497  0.861142  0.233129  ...  0.677211      1    18    3.0\n",
              "45583  0.803416  0.199186  0.787697  0.000000  ...  0.079700      1    13    2.0\n",
              "45584  0.970575  0.392994  0.980522  0.061350  ...  0.858127      1     3    3.0\n",
              "45585  0.983463  0.772074  0.722347  0.162577  ...  0.437588      1    16    2.0\n",
              "\n",
              "[45586 rows x 19 columns]"
            ]
          },
          "metadata": {
            "tags": []
          },
          "execution_count": 5
        }
      ]
    },
    {
      "cell_type": "code",
      "metadata": {
        "id": "NdZR7-ySM9Fz",
        "colab_type": "code",
        "outputId": "2aa1f539-a2d2-441f-e618-9d090bfc660d",
        "colab": {
          "base_uri": "https://localhost:8080/",
          "height": 419
        }
      },
      "source": [
        "datax=datos.iloc[:,:7]\n",
        "datay=datos.label\n",
        "datax"
      ],
      "execution_count": 0,
      "outputs": [
        {
          "output_type": "execute_result",
          "data": {
            "text/html": [
              "<div>\n",
              "<style scoped>\n",
              "    .dataframe tbody tr th:only-of-type {\n",
              "        vertical-align: middle;\n",
              "    }\n",
              "\n",
              "    .dataframe tbody tr th {\n",
              "        vertical-align: top;\n",
              "    }\n",
              "\n",
              "    .dataframe thead th {\n",
              "        text-align: right;\n",
              "    }\n",
              "</style>\n",
              "<table border=\"1\" class=\"dataframe\">\n",
              "  <thead>\n",
              "    <tr style=\"text-align: right;\">\n",
              "      <th></th>\n",
              "      <th>ESM</th>\n",
              "      <th>MD</th>\n",
              "      <th>NDSI</th>\n",
              "      <th>MID</th>\n",
              "      <th>WE</th>\n",
              "      <th>SC</th>\n",
              "      <th>SB</th>\n",
              "    </tr>\n",
              "  </thead>\n",
              "  <tbody>\n",
              "    <tr>\n",
              "      <th>0</th>\n",
              "      <td>0.867282</td>\n",
              "      <td>0.467304</td>\n",
              "      <td>0.966325</td>\n",
              "      <td>0.018405</td>\n",
              "      <td>0.029465</td>\n",
              "      <td>0.377291</td>\n",
              "      <td>0.552523</td>\n",
              "    </tr>\n",
              "    <tr>\n",
              "      <th>1</th>\n",
              "      <td>0.908406</td>\n",
              "      <td>0.453123</td>\n",
              "      <td>0.980696</td>\n",
              "      <td>0.003067</td>\n",
              "      <td>0.028795</td>\n",
              "      <td>0.386899</td>\n",
              "      <td>0.559192</td>\n",
              "    </tr>\n",
              "    <tr>\n",
              "      <th>2</th>\n",
              "      <td>0.914618</td>\n",
              "      <td>0.458898</td>\n",
              "      <td>0.906203</td>\n",
              "      <td>0.125767</td>\n",
              "      <td>0.063776</td>\n",
              "      <td>0.360998</td>\n",
              "      <td>0.724380</td>\n",
              "    </tr>\n",
              "    <tr>\n",
              "      <th>3</th>\n",
              "      <td>0.925893</td>\n",
              "      <td>0.439432</td>\n",
              "      <td>0.929386</td>\n",
              "      <td>0.119632</td>\n",
              "      <td>0.042596</td>\n",
              "      <td>0.356602</td>\n",
              "      <td>0.651678</td>\n",
              "    </tr>\n",
              "    <tr>\n",
              "      <th>4</th>\n",
              "      <td>0.910974</td>\n",
              "      <td>0.442196</td>\n",
              "      <td>0.981205</td>\n",
              "      <td>0.039877</td>\n",
              "      <td>0.027250</td>\n",
              "      <td>0.379340</td>\n",
              "      <td>0.582113</td>\n",
              "    </tr>\n",
              "    <tr>\n",
              "      <th>...</th>\n",
              "      <td>...</td>\n",
              "      <td>...</td>\n",
              "      <td>...</td>\n",
              "      <td>...</td>\n",
              "      <td>...</td>\n",
              "      <td>...</td>\n",
              "      <td>...</td>\n",
              "    </tr>\n",
              "    <tr>\n",
              "      <th>45581</th>\n",
              "      <td>0.850048</td>\n",
              "      <td>0.369156</td>\n",
              "      <td>0.584126</td>\n",
              "      <td>0.745399</td>\n",
              "      <td>0.077290</td>\n",
              "      <td>0.231847</td>\n",
              "      <td>0.543725</td>\n",
              "    </tr>\n",
              "    <tr>\n",
              "      <th>45582</th>\n",
              "      <td>0.833907</td>\n",
              "      <td>0.338497</td>\n",
              "      <td>0.861142</td>\n",
              "      <td>0.233129</td>\n",
              "      <td>0.039242</td>\n",
              "      <td>0.215234</td>\n",
              "      <td>0.697241</td>\n",
              "    </tr>\n",
              "    <tr>\n",
              "      <th>45583</th>\n",
              "      <td>0.803416</td>\n",
              "      <td>0.199186</td>\n",
              "      <td>0.787697</td>\n",
              "      <td>0.000000</td>\n",
              "      <td>0.229162</td>\n",
              "      <td>0.238528</td>\n",
              "      <td>0.706890</td>\n",
              "    </tr>\n",
              "    <tr>\n",
              "      <th>45584</th>\n",
              "      <td>0.970575</td>\n",
              "      <td>0.392994</td>\n",
              "      <td>0.980522</td>\n",
              "      <td>0.061350</td>\n",
              "      <td>0.115595</td>\n",
              "      <td>0.256904</td>\n",
              "      <td>0.639992</td>\n",
              "    </tr>\n",
              "    <tr>\n",
              "      <th>45585</th>\n",
              "      <td>0.983463</td>\n",
              "      <td>0.772074</td>\n",
              "      <td>0.722347</td>\n",
              "      <td>0.162577</td>\n",
              "      <td>0.999014</td>\n",
              "      <td>0.241603</td>\n",
              "      <td>0.737606</td>\n",
              "    </tr>\n",
              "  </tbody>\n",
              "</table>\n",
              "<p>45586 rows × 7 columns</p>\n",
              "</div>"
            ],
            "text/plain": [
              "            ESM        MD      NDSI       MID        WE        SC        SB\n",
              "0      0.867282  0.467304  0.966325  0.018405  0.029465  0.377291  0.552523\n",
              "1      0.908406  0.453123  0.980696  0.003067  0.028795  0.386899  0.559192\n",
              "2      0.914618  0.458898  0.906203  0.125767  0.063776  0.360998  0.724380\n",
              "3      0.925893  0.439432  0.929386  0.119632  0.042596  0.356602  0.651678\n",
              "4      0.910974  0.442196  0.981205  0.039877  0.027250  0.379340  0.582113\n",
              "...         ...       ...       ...       ...       ...       ...       ...\n",
              "45581  0.850048  0.369156  0.584126  0.745399  0.077290  0.231847  0.543725\n",
              "45582  0.833907  0.338497  0.861142  0.233129  0.039242  0.215234  0.697241\n",
              "45583  0.803416  0.199186  0.787697  0.000000  0.229162  0.238528  0.706890\n",
              "45584  0.970575  0.392994  0.980522  0.061350  0.115595  0.256904  0.639992\n",
              "45585  0.983463  0.772074  0.722347  0.162577  0.999014  0.241603  0.737606\n",
              "\n",
              "[45586 rows x 7 columns]"
            ]
          },
          "metadata": {
            "tags": []
          },
          "execution_count": 6
        }
      ]
    },
    {
      "cell_type": "code",
      "metadata": {
        "id": "uiX_IrI8Mztu",
        "colab_type": "code",
        "outputId": "6538edbd-6da3-4ac0-9485-03f561cbe35d",
        "colab": {
          "base_uri": "https://localhost:8080/",
          "height": 68
        }
      },
      "source": [
        "import pandas as pd\n",
        "from sklearn import datasets, linear_model\n",
        "from sklearn.model_selection import train_test_split\n",
        "X_ubm, X_test, y_ubm, y_test = train_test_split(datax, datay, test_size=0.5,random_state=0, stratify=datay)\n",
        "X_gmm, X_val, y_gmm,y_val = train_test_split(X_test, y_test, test_size=0.4, random_state=0, stratify=y_test)\n",
        "\n",
        "print(X_ubm.shape)\n",
        "print(X_gmm.shape)\n",
        "print(X_val.shape)"
      ],
      "execution_count": 0,
      "outputs": [
        {
          "output_type": "stream",
          "text": [
            "(22793, 7)\n",
            "(13675, 7)\n",
            "(9118, 7)\n"
          ],
          "name": "stdout"
        }
      ]
    },
    {
      "cell_type": "markdown",
      "metadata": {
        "id": "0g2jU9JXishI",
        "colab_type": "text"
      },
      "source": [
        ""
      ]
    },
    {
      "cell_type": "markdown",
      "metadata": {
        "colab_type": "text",
        "id": "LMqm7kpyrQBn"
      },
      "source": [
        "# Bhattacharyya distance\n",
        "\n",
        "\n",
        "With the data we need to declare a few functions. dst_bhat_o calcule the Bhattacharyya distance (https://en.wikipedia.org/wiki/Bhattacharyya_distance) of two gmm objects.\n",
        "\n",
        "The choosebestclassmatch function return the min distance of a gmm object to the tree gmm adapted train classes. \n",
        "\n",
        "The predict function receive the UBM and do a adaptation of the new data. You can choose the size of the input data. "
      ]
    },
    {
      "cell_type": "code",
      "metadata": {
        "colab_type": "code",
        "id": "wtU_aSrR712W",
        "colab": {}
      },
      "source": [
        "def dst_bhat_O(spk_model_train1,spk_model_test1):\n",
        "    u1 = spk_model_train1.means_\n",
        "    u2 = spk_model_test1.means_\n",
        "    cov1 = spk_model_train1.covariances_\n",
        "    cov2 = spk_model_test1.covariances_\n",
        "    param1 = 0\n",
        "    param2 = 0\n",
        "    for i in range(u1.shape[0]):\n",
        "        du = u2[i,:]-u1[i,:]\n",
        "        du = np.reshape(du,(len(du),1))\n",
        "        dcov = (np.diag(cov1[i,:])+np.diag(cov2[i,:]))/2\n",
        "        temp = np.matmul(du.T,np.linalg.inv(dcov))\n",
        "        param1 += np.matmul(temp,du)[0][0]\n",
        "        param2 += np.log(np.linalg.det(dcov)/np.sqrt(np.linalg.det(np.diag(cov1[i,:]))*np.linalg.det(np.diag(cov2[i,:]))))\n",
        "\n",
        "    bha = (0.125*param1)+(0.5*param2)#Without weigths\n",
        "    return bha\n",
        "\n",
        "def choosebestclassmatch(obj):\n",
        "    a= [dst_bhat_O(gmmbaja,obj),dst_bhat_O(gmmmedia,obj),dst_bhat_O(gmmalta,obj)]\n",
        "    classi=a.index(min(a))\n",
        "    return classi\n",
        "\n",
        "#the pred function have as input a dataframe object \n",
        "def pred(dataf,UBMM,size):\n",
        "    predict=[]\n",
        "    for i in range(0,len(dataf)//size):\n",
        "        j=i*size\n",
        "        mapobj = MAP.ubm_map(UBMM,dataf.iloc[j:j+size,:],mode='011')\n",
        "        predict.append(choosebestclassmatch(mapobj))\n",
        "    return predict"
      ],
      "execution_count": 0,
      "outputs": []
    },
    {
      "cell_type": "markdown",
      "metadata": {
        "id": "rA9KRfwSRNEr",
        "colab_type": "text"
      },
      "source": [
        "Next we split the data:\n",
        "\n",
        "tr is for training each gmm adapted,\n",
        "te is to test the UBM-Aproach, y are the labels "
      ]
    },
    {
      "cell_type": "code",
      "metadata": {
        "id": "npFJcvTUQ0bt",
        "colab_type": "code",
        "outputId": "0f5723d3-b799-4b7d-eb4a-4273be79167a",
        "colab": {
          "base_uri": "https://localhost:8080/",
          "height": 139
        }
      },
      "source": [
        "\n",
        "lim=7\n",
        "test=X_val.copy()\n",
        "test['trans']=y_test.copy()\n",
        "X_gmm['trans']=y_gmm.copy()\n",
        "tr1=X_gmm.loc[X_gmm['trans'] == 0].iloc[:,:lim]\n",
        "tr2=X_gmm.loc[X_gmm['trans'] == 1].iloc[:,:lim]\n",
        "tr3=X_gmm.loc[X_gmm['trans'] == 2].iloc[:,:lim]\n",
        "tests=test.copy()\n",
        "\n",
        "\n",
        "te1=tests.loc[tests['trans'] == 0].iloc[:,:lim]\n",
        "te2=tests.loc[tests['trans'] == 1].iloc[:,:lim]\n",
        "te3=tests.loc[tests['trans'] == 2].iloc[:,:lim]\n",
        "ytests=test['trans']\n",
        "\n",
        "y1=[0 for i in range(len(te1)//10)]\n",
        "y2=[1 for i in range(len(te2)//10)]\n",
        "y3=[2 for i in range(len(te3)//10)]\n",
        "ytotal=[]\n",
        "ytotal=y1.copy()\n",
        "ytotal.extend(y2)\n",
        "ytotal.extend(y3)"
      ],
      "execution_count": 0,
      "outputs": [
        {
          "output_type": "stream",
          "text": [
            "/usr/local/lib/python3.6/dist-packages/ipykernel_launcher.py:5: SettingWithCopyWarning: \n",
            "A value is trying to be set on a copy of a slice from a DataFrame.\n",
            "Try using .loc[row_indexer,col_indexer] = value instead\n",
            "\n",
            "See the caveats in the documentation: http://pandas.pydata.org/pandas-docs/stable/user_guide/indexing.html#returning-a-view-versus-a-copy\n",
            "  \"\"\"\n"
          ],
          "name": "stderr"
        }
      ]
    },
    {
      "cell_type": "markdown",
      "metadata": {
        "id": "a0wtIxSHRGfT",
        "colab_type": "text"
      },
      "source": [
        "So, we do a grid search for the number of gaussians parameter using the variables. we used a Diagonal covariance "
      ]
    },
    {
      "cell_type": "code",
      "metadata": {
        "id": "a-nDoG-YMtB7",
        "colab_type": "code",
        "colab": {}
      },
      "source": [
        "#{'Alta':2,'Baja':0,'Media':1}\n",
        "import warnings\n",
        "warnings.filterwarnings(\"ignore\")\n",
        "\n",
        "c = np.zeros(7)\n",
        "for i in range(2,15):\n",
        "    ngauss = 1 #Number of Gaussians\n",
        "\n",
        "    UBM = mixture.GaussianMixture(n_components=i, covariance_type='diag',n_init=100,random_state=1)\n",
        "    UBM.fit(X_ubm)\n",
        "\n",
        "    gmmbaja = MAP.ubm_map(UBM,tr1,mode='011')\n",
        "    gmmmedia= MAP.ubm_map(UBM,tr2,mode='011')\n",
        "    gmmalta= MAP.ubm_map(UBM,tr3,mode='011')\n",
        "    print('number*********************************',i)\n",
        "    p1=pred(te1,UBM,10)\n",
        "    p2=pred(te2,UBM,10)\n",
        "    p3=pred(te3,UBM,10)\n",
        "\n",
        "    predtotal=[]\n",
        "    predtotal=p1.copy()\n",
        "    predtotal.extend(p2)\n",
        "    predtotal.extend(p3)\n",
        "    at=accuracy_score(ytotal, predtotal)\n",
        "    print(at)\n",
        "    c[i]=at\n",
        "print('Accuracy total',c)"
      ],
      "execution_count": 0,
      "outputs": []
    },
    {
      "cell_type": "code",
      "metadata": {
        "id": "jehO3b5OUE4t",
        "colab_type": "code",
        "colab": {}
      },
      "source": [
        "plt.plot(c)\n",
        "plt.xlabel('number of components')\n",
        "plt.ylabel('accuracy')"
      ],
      "execution_count": 0,
      "outputs": []
    },
    {
      "cell_type": "markdown",
      "metadata": {
        "id": "9qje-vVrDhxS",
        "colab_type": "text"
      },
      "source": [
        "10-fold crossvalidation\n"
      ]
    },
    {
      "cell_type": "code",
      "metadata": {
        "id": "w26g9zXCQDA5",
        "colab_type": "code",
        "colab": {}
      },
      "source": [
        "accuracys = []\n",
        "import warnings\n",
        "warnings.filterwarnings(\"ignore\")\n",
        "#X_ubm, X_test, y_ubm, y_test = train_test_split(datax, datay, test_size=0.5,random_state=0, stratify=datay)\n",
        "n_components=2\n",
        "\n",
        "X=datax\n",
        "y=datay\n",
        "kfold=4\n",
        "skf=StratifiedKFold(n_splits=kfold)\n",
        "lim=7\n",
        "for i in range(10):\n",
        "    X_ubm, X_test, y_ubm, y_test = train_test_split(datax, datay, test_size=0.5, stratify=datay)\n",
        "    X_gmm, X_val, y_gmm,y_val = train_test_split(X_test, y_test, test_size=0.4, stratify=y_test)\n",
        "    \n",
        "    UBM = mixture.GaussianMixture(n_components=2, covariance_type='diag',n_init=100,random_state=1)\n",
        "    UBM.fit(X_ubm) \n",
        "    \n",
        "    test=X_test.copy()\n",
        "    test['trans']=y_test\n",
        "    X_gmm['trans']=y_gmm\n",
        "    tr1=X_gmm.loc[X_gmm['trans'] == 0].iloc[:,0:lim]\n",
        "    tr2=X_gmm.loc[X_gmm['trans'] == 1].iloc[:,0:lim]\n",
        "    tr3=X_gmm.loc[X_gmm['trans'] == 2].iloc[:,0:lim]\n",
        "    tests=test.copy()\n",
        "    \n",
        "    te1=tests.loc[tests['trans'] == 0].iloc[:,0:lim]\n",
        "    te2=tests.loc[tests['trans'] == 1].iloc[:,0:lim]\n",
        "    te3=tests.loc[tests['trans'] == 2].iloc[:,0:lim]\n",
        "    ytests=test['trans']\n",
        "   \n",
        "    gmmbaja = MAP.ubm_map(UBM,tr1,mode='011')\n",
        "    gmmmedia= MAP.ubm_map(UBM,tr2,mode='011')\n",
        "    gmmalta= MAP.ubm_map(UBM,tr3,mode='011')\n",
        "    print('iteracion*********************************',i)\n",
        "    p1=pred(te1,UBM,10)\n",
        "    p2=pred(te2,UBM,10)\n",
        "    p3=pred(te3,UBM,10)\n",
        "    \n",
        "    y1=[0 for i in range(len(te1)//10)]\n",
        "    y2=[1 for i in range(len(te2)//10)]\n",
        "    y3=[2 for i in range(len(te3)//10)]\n",
        "    ytotal=[]\n",
        "    ytotal=y1.copy()\n",
        "    ytotal.extend(y2)\n",
        "    ytotal.extend(y3)\n",
        "    \n",
        "    predtotal=[]\n",
        "    predtotal=p1.copy()\n",
        "    predtotal.extend(p2)\n",
        "    predtotal.extend(p3)\n",
        "\n",
        "    at=accuracy_score(ytotal, predtotal)\n",
        "    print(at)\n",
        "    accuracys.append(at)"
      ],
      "execution_count": 0,
      "outputs": []
    },
    {
      "cell_type": "code",
      "metadata": {
        "id": "L1v-hlfiDsRf",
        "colab_type": "code",
        "colab": {}
      },
      "source": [
        "from sklearn.metrics import classification_report,roc_curve,roc_auc_score\n",
        "from sklearn.metrics import precision_score\n",
        "print(classification_report(ytotal,predtotal))"
      ],
      "execution_count": 0,
      "outputs": []
    },
    {
      "cell_type": "markdown",
      "metadata": {
        "id": "pqag6k0qrxv3",
        "colab_type": "text"
      },
      "source": [
        "GMM used with three zones "
      ]
    },
    {
      "cell_type": "code",
      "metadata": {
        "id": "6F8z9T_Lts8l",
        "colab_type": "code",
        "colab": {}
      },
      "source": [
        "import pandas as pd\n",
        "from sklearn import datasets, linear_model\n",
        "from sklearn.model_selection import train_test_split\n",
        "X_train, X_test, y_train, y_test = train_test_split(datax, datay, test_size=0.5,random_state=0, stratify=datay)\n"
      ],
      "execution_count": 0,
      "outputs": []
    },
    {
      "cell_type": "code",
      "metadata": {
        "id": "bNYyQLf0uai-",
        "colab_type": "code",
        "colab": {}
      },
      "source": [
        "#split data per class for train\n",
        "X_train['trans']=y_train \n",
        "lim=7\n",
        "tr1=X_train.loc[X_train['trans'] == 0].iloc[:,0:lim]\n",
        "tr2=X_train.loc[X_train['trans'] == 1].iloc[:,0:lim]\n",
        "tr3=X_train.loc[X_train['trans'] == 2].iloc[:,0:lim] "
      ],
      "execution_count": 0,
      "outputs": []
    },
    {
      "cell_type": "code",
      "metadata": {
        "id": "gwIs0PA8daBC",
        "colab_type": "code",
        "outputId": "80a9ce89-1f43-4f64-cfb2-5cf9917fb0d0",
        "colab": {
          "base_uri": "https://localhost:8080/",
          "height": 850
        }
      },
      "source": [
        "from sklearn.metrics import accuracy_score\n",
        "from sklearn import mixture\n",
        "\n",
        "def choosebestclassmatchgmm(obj):\n",
        "    a= [gmmtr1.score(obj) ,gmmtr2.score(obj),gmmtr3.score(obj)]\n",
        "    classi=a.index(max(a))\n",
        "    return classi\n",
        "\n",
        "\n",
        "accuracies=[]\n",
        "for i in range(1,50):\n",
        "  \n",
        "      gmmtr1 = mixture.GaussianMixture(n_components=i, covariance_type='diag',max_iter=500)\n",
        "      gmmtr1.fit(tr1)\n",
        "      gmmtr2 = mixture.GaussianMixture(n_components=i, covariance_type='diag',max_iter=500)\n",
        "      gmmtr2.fit(tr2)\n",
        "      gmmtr3 = mixture.GaussianMixture(n_components=i, covariance_type='diag',max_iter=500)\n",
        "      gmmtr3.fit(tr3)\n",
        "\n",
        "      predict=[]\n",
        "      for i in range(len(X_test)):\n",
        "              predict.append(choosebestclassmatchgmm(X_test.iloc[i,:].values.reshape(1, -1)))\n",
        "      at=accuracy_score(predict,y_test)\n",
        "      print(at)\n",
        "      accuracies.append(at)"
      ],
      "execution_count": 0,
      "outputs": [
        {
          "output_type": "stream",
          "text": [
            "0.41591716755144126\n",
            "0.505023472118633\n",
            "0.5306453735796077\n",
            "0.5771070065370947\n",
            "0.5976834993199667\n",
            "0.6302373535734656\n",
            "0.6301057342166455\n",
            "0.6806475672355548\n",
            "0.7016627912078269\n",
            "0.6863949458166981\n",
            "0.7099109375685517\n",
            "0.708638617119291\n",
            "0.710349668757952\n",
            "0.729215109902163\n",
            "0.7291712367832229\n",
            "0.7418066950379503\n",
            "0.7472908349054534\n",
            "0.7444390821743517\n",
            "0.7484754091168341\n",
            "0.750098714517615\n",
            "0.756942921072259\n",
            "0.7739218181020489\n",
            "0.77589610845435\n",
            "0.7748431535997894\n",
            "0.7841442548150748\n",
            "0.7919097968674593\n",
            "0.7814679945597333\n",
            "0.789716140920458\n",
            "0.7938402141008204\n",
            "0.7943228184091607\n",
            "0.7974816829728425\n",
            "0.8004650550607643\n",
            "0.8011670249638047\n",
            "0.8045452551221867\n",
            "0.8095029175624096\n",
            "0.7991049883736234\n",
            "0.8025709647698855\n",
            "0.8187601456587549\n",
            "0.8044575088843066\n",
            "0.815469661738253\n",
            "0.8131005133154916\n",
            "0.8105997455359102\n",
            "0.8153380423814329\n",
            "0.8211731672004563\n",
            "0.8228403457201773\n",
            "0.829333567323301\n",
            "0.8238055543368578\n",
            "0.8252972403808186\n",
            "0.8252094941429386\n"
          ],
          "name": "stdout"
        }
      ]
    },
    {
      "cell_type": "code",
      "metadata": {
        "id": "XoD2oA2VuepI",
        "colab_type": "code",
        "outputId": "95d439db-d8b7-4b92-f889-12d0b83b259e",
        "colab": {
          "base_uri": "https://localhost:8080/",
          "height": 296
        }
      },
      "source": [
        "import matplotlib.pyplot as plt\n",
        "plt.plot(accuracies)\n",
        "plt.xlabel(\"number of components\")\n",
        "plt.ylabel(\"Accuracy score\")"
      ],
      "execution_count": 0,
      "outputs": [
        {
          "output_type": "execute_result",
          "data": {
            "text/plain": [
              "Text(0, 0.5, 'Accuracy score')"
            ]
          },
          "metadata": {
            "tags": []
          },
          "execution_count": 21
        },
        {
          "output_type": "display_data",
          "data": {
            "image/png": "[encoded data removed]",
            "text/plain": [
              "<Figure size 432x288 with 1 Axes>"
            ]
          },
          "metadata": {
            "tags": []
          }
        }
      ]
    },
    {
      "cell_type": "markdown",
      "metadata": {
        "id": "klLokPiiiuef",
        "colab_type": "text"
      },
      "source": [
        ""
      ]
    }
  ]
}